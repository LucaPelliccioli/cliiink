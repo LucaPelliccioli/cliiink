{
 "cells": [
  {
   "source": [
    "# Importation des librairies"
   ],
   "cell_type": "markdown",
   "metadata": {}
  },
  {
   "source": [
    "import pandas as pd"
   ],
   "cell_type": "code",
   "metadata": {},
   "execution_count": 2,
   "outputs": []
  },
  {
   "cell_type": "markdown",
   "metadata": {},
   "source": [
    "# Lecture et aperçu des fichiers"
   ]
  },
  {
   "source": [
    "dataDecheterie = pd.read_csv(\"../data/data_sig_collecte/col_decheterie.csv\", encoding=\"ISO-8859-1\", sep=\";\")\n",
    "dataOM = pd.read_csv(\"../data/data_sig_collecte/col_om_pt.csv\", encoding=\"ISO-8859-1\", sep=\";\")\n",
    "dataPapier = pd.read_csv(\"../data/data_sig_collecte/col_papier_pt.csv\", encoding=\"ISO-8859-1\", sep=\";\")\n",
    "dataTri = pd.read_csv(\"../data/data_sig_collecte/col_tri_pt.csv\", encoding=\"ISO-8859-1\", sep=\";\")\n",
    "dataVerre = pd.read_csv(\"../data/data_sig_collecte/col_verre_pt.csv\", encoding=\"ISO-8859-1\", sep=\";\")\n",
    "dataVetement = pd.read_csv(\"../data/data_sig_collecte/col_vetement_pt.csv\", encoding=\"ISO-8859-1\", sep=\";\")\n",
    "#dataOM.to_csv(\"col_om_pt.csv\", encoding=\"utf-8\")\n",
    "dataDecheterie.head()"
   ],
   "cell_type": "code",
   "metadata": {},
   "execution_count": 9,
   "outputs": [
    {
     "output_type": "execute_result",
     "data": {
      "text/plain": "   objectid  id                  adresse  adresse_comp  code_insee veget bois  \\\n0       801 NaN    Impasse de l aubarede           NaN        6030   Oui  Oui   \n1      1201 NaN      Chemin du coudouron           NaN        6085   Oui  Oui   \n2      1601 NaN  Déchèterie des tourades           NaN        6029   Oui  Oui   \n\n  metal grav_prop grav_sal  ... huil_veget_mineral date_instal observations  \\\n0   Oui       Oui      Oui  ...                Oui         NaN          NaN   \n1   Oui       Oui      Non  ...                Oui         NaN          NaN   \n2   Oui       Oui      Oui  ...                Oui         NaN          NaN   \n\n  creation   date_creation modification date_modification  \\\n0  chpayet  20200723135923      chpayet    20200723135923   \n1  chpayet  20200727125141      chpayet    20200727125459   \n2  chpayet  20200731130159      chpayet    20200731130332   \n\n                                 globalid        _x         _y  \n0  {F24B4AF3-17BF-4215-B07F-044AA37EA4E5}  6.983613  43.566849  \n1  {26CF70EB-23DD-4399-ACBA-98434B6BFC1A}  6.964639  43.581638  \n2  {83866245-B862-4D22-B436-D5B1A64F5441}  6.954320  43.556717  \n\n[3 rows x 28 columns]",
      "text/html": "<div>\n<style scoped>\n    .dataframe tbody tr th:only-of-type {\n        vertical-align: middle;\n    }\n\n    .dataframe tbody tr th {\n        vertical-align: top;\n    }\n\n    .dataframe thead th {\n        text-align: right;\n    }\n</style>\n<table border=\"1\" class=\"dataframe\">\n  <thead>\n    <tr style=\"text-align: right;\">\n      <th></th>\n      <th>objectid</th>\n      <th>id</th>\n      <th>adresse</th>\n      <th>adresse_comp</th>\n      <th>code_insee</th>\n      <th>veget</th>\n      <th>bois</th>\n      <th>metal</th>\n      <th>grav_prop</th>\n      <th>grav_sal</th>\n      <th>...</th>\n      <th>huil_veget_mineral</th>\n      <th>date_instal</th>\n      <th>observations</th>\n      <th>creation</th>\n      <th>date_creation</th>\n      <th>modification</th>\n      <th>date_modification</th>\n      <th>globalid</th>\n      <th>_x</th>\n      <th>_y</th>\n    </tr>\n  </thead>\n  <tbody>\n    <tr>\n      <th>0</th>\n      <td>801</td>\n      <td>NaN</td>\n      <td>Impasse de l aubarede</td>\n      <td>NaN</td>\n      <td>6030</td>\n      <td>Oui</td>\n      <td>Oui</td>\n      <td>Oui</td>\n      <td>Oui</td>\n      <td>Oui</td>\n      <td>...</td>\n      <td>Oui</td>\n      <td>NaN</td>\n      <td>NaN</td>\n      <td>chpayet</td>\n      <td>20200723135923</td>\n      <td>chpayet</td>\n      <td>20200723135923</td>\n      <td>{F24B4AF3-17BF-4215-B07F-044AA37EA4E5}</td>\n      <td>6.983613</td>\n      <td>43.566849</td>\n    </tr>\n    <tr>\n      <th>1</th>\n      <td>1201</td>\n      <td>NaN</td>\n      <td>Chemin du coudouron</td>\n      <td>NaN</td>\n      <td>6085</td>\n      <td>Oui</td>\n      <td>Oui</td>\n      <td>Oui</td>\n      <td>Oui</td>\n      <td>Non</td>\n      <td>...</td>\n      <td>Oui</td>\n      <td>NaN</td>\n      <td>NaN</td>\n      <td>chpayet</td>\n      <td>20200727125141</td>\n      <td>chpayet</td>\n      <td>20200727125459</td>\n      <td>{26CF70EB-23DD-4399-ACBA-98434B6BFC1A}</td>\n      <td>6.964639</td>\n      <td>43.581638</td>\n    </tr>\n    <tr>\n      <th>2</th>\n      <td>1601</td>\n      <td>NaN</td>\n      <td>Déchèterie des tourades</td>\n      <td>NaN</td>\n      <td>6029</td>\n      <td>Oui</td>\n      <td>Oui</td>\n      <td>Oui</td>\n      <td>Oui</td>\n      <td>Oui</td>\n      <td>...</td>\n      <td>Oui</td>\n      <td>NaN</td>\n      <td>NaN</td>\n      <td>chpayet</td>\n      <td>20200731130159</td>\n      <td>chpayet</td>\n      <td>20200731130332</td>\n      <td>{83866245-B862-4D22-B436-D5B1A64F5441}</td>\n      <td>6.954320</td>\n      <td>43.556717</td>\n    </tr>\n  </tbody>\n</table>\n<p>3 rows × 28 columns</p>\n</div>"
     },
     "metadata": {},
     "execution_count": 9
    }
   ]
  },
  {
   "source": [
    "# TODO pour chaque jeu de données\n",
    "print(\"On recense \", dataDecheterie.shape[0], \"déchèteries avec\", dataDecheterie.shape[1], \"variables\")\n",
    "dataDecheterie.code_insee.value_counts()"
   ],
   "cell_type": "code",
   "metadata": {
    "tags": []
   },
   "execution_count": 12,
   "outputs": [
    {
     "output_type": "execute_result",
     "data": {
      "text/plain": "6029    1\n6030    1\n6085    1\nName: code_insee, dtype: int64"
     },
     "metadata": {},
     "execution_count": 12
    }
   ]
  },
  {
   "cell_type": "markdown",
   "metadata": {},
   "source": [
    "# Statistiques de base"
   ]
  },
  {
   "source": [
    "# peu pertinent\n",
    "dataDecheterie.describe()"
   ],
   "cell_type": "code",
   "metadata": {},
   "execution_count": 15,
   "outputs": [
    {
     "output_type": "execute_result",
     "data": {
      "text/plain": "        objectid   id                  adresse  adresse_comp   code_insee  \\\ncount        3.0  0.0                        3           0.0     3.000000   \nunique       NaN  NaN                        3           NaN          NaN   \ntop          NaN  NaN  Déchèterie des tourades           NaN          NaN   \nfreq         NaN  NaN                        1           NaN          NaN   \nmean      1201.0  NaN                      NaN           NaN  6048.000000   \nstd        400.0  NaN                      NaN           NaN    32.046841   \nmin        801.0  NaN                      NaN           NaN  6029.000000   \n25%       1001.0  NaN                      NaN           NaN  6029.500000   \n50%       1201.0  NaN                      NaN           NaN  6030.000000   \n75%       1401.0  NaN                      NaN           NaN  6057.500000   \nmax       1601.0  NaN                      NaN           NaN  6085.000000   \n\n       veget bois metal grav_prop grav_sal  ... huil_veget_mineral  \\\ncount      3    3     3         3        3  ...                  3   \nunique     1    1     1         1        2  ...                  1   \ntop      Oui  Oui   Oui       Oui      Oui  ...                Oui   \nfreq       3    3     3         3        2  ...                  3   \nmean     NaN  NaN   NaN       NaN      NaN  ...                NaN   \nstd      NaN  NaN   NaN       NaN      NaN  ...                NaN   \nmin      NaN  NaN   NaN       NaN      NaN  ...                NaN   \n25%      NaN  NaN   NaN       NaN      NaN  ...                NaN   \n50%      NaN  NaN   NaN       NaN      NaN  ...                NaN   \n75%      NaN  NaN   NaN       NaN      NaN  ...                NaN   \nmax      NaN  NaN   NaN       NaN      NaN  ...                NaN   \n\n       date_instal observations creation date_creation modification  \\\ncount          0.0          0.0        3  3.000000e+00            3   \nunique         NaN          NaN        1           NaN            1   \ntop            NaN          NaN  chpayet           NaN      chpayet   \nfreq           NaN          NaN        3           NaN            3   \nmean           NaN          NaN      NaN  2.020073e+13          NaN   \nstd            NaN          NaN      NaN  3.997121e+06          NaN   \nmin            NaN          NaN      NaN  2.020072e+13          NaN   \n25%            NaN          NaN      NaN  2.020073e+13          NaN   \n50%            NaN          NaN      NaN  2.020073e+13          NaN   \n75%            NaN          NaN      NaN  2.020073e+13          NaN   \nmax            NaN          NaN      NaN  2.020073e+13          NaN   \n\n       date_modification                                globalid        _x  \\\ncount       3.000000e+00                                       3  3.000000   \nunique               NaN                                       3       NaN   \ntop                  NaN  {F24B4AF3-17BF-4215-B07F-044AA37EA4E5}       NaN   \nfreq                 NaN                                       1       NaN   \nmean        2.020073e+13                                     NaN  6.967524   \nstd         3.997207e+06                                     NaN  0.014858   \nmin         2.020072e+13                                     NaN  6.954320   \n25%         2.020073e+13                                     NaN  6.959480   \n50%         2.020073e+13                                     NaN  6.964639   \n75%         2.020073e+13                                     NaN  6.974126   \nmax         2.020073e+13                                     NaN  6.983613   \n\n               _y  \ncount    3.000000  \nunique        NaN  \ntop           NaN  \nfreq          NaN  \nmean    43.568401  \nstd      0.012533  \nmin     43.556717  \n25%     43.561783  \n50%     43.566849  \n75%     43.574244  \nmax     43.581638  \n\n[11 rows x 28 columns]",
      "text/html": "<div>\n<style scoped>\n    .dataframe tbody tr th:only-of-type {\n        vertical-align: middle;\n    }\n\n    .dataframe tbody tr th {\n        vertical-align: top;\n    }\n\n    .dataframe thead th {\n        text-align: right;\n    }\n</style>\n<table border=\"1\" class=\"dataframe\">\n  <thead>\n    <tr style=\"text-align: right;\">\n      <th></th>\n      <th>objectid</th>\n      <th>id</th>\n      <th>adresse</th>\n      <th>adresse_comp</th>\n      <th>code_insee</th>\n      <th>veget</th>\n      <th>bois</th>\n      <th>metal</th>\n      <th>grav_prop</th>\n      <th>grav_sal</th>\n      <th>...</th>\n      <th>huil_veget_mineral</th>\n      <th>date_instal</th>\n      <th>observations</th>\n      <th>creation</th>\n      <th>date_creation</th>\n      <th>modification</th>\n      <th>date_modification</th>\n      <th>globalid</th>\n      <th>_x</th>\n      <th>_y</th>\n    </tr>\n  </thead>\n  <tbody>\n    <tr>\n      <th>count</th>\n      <td>3.0</td>\n      <td>0.0</td>\n      <td>3</td>\n      <td>0.0</td>\n      <td>3.000000</td>\n      <td>3</td>\n      <td>3</td>\n      <td>3</td>\n      <td>3</td>\n      <td>3</td>\n      <td>...</td>\n      <td>3</td>\n      <td>0.0</td>\n      <td>0.0</td>\n      <td>3</td>\n      <td>3.000000e+00</td>\n      <td>3</td>\n      <td>3.000000e+00</td>\n      <td>3</td>\n      <td>3.000000</td>\n      <td>3.000000</td>\n    </tr>\n    <tr>\n      <th>unique</th>\n      <td>NaN</td>\n      <td>NaN</td>\n      <td>3</td>\n      <td>NaN</td>\n      <td>NaN</td>\n      <td>1</td>\n      <td>1</td>\n      <td>1</td>\n      <td>1</td>\n      <td>2</td>\n      <td>...</td>\n      <td>1</td>\n      <td>NaN</td>\n      <td>NaN</td>\n      <td>1</td>\n      <td>NaN</td>\n      <td>1</td>\n      <td>NaN</td>\n      <td>3</td>\n      <td>NaN</td>\n      <td>NaN</td>\n    </tr>\n    <tr>\n      <th>top</th>\n      <td>NaN</td>\n      <td>NaN</td>\n      <td>Déchèterie des tourades</td>\n      <td>NaN</td>\n      <td>NaN</td>\n      <td>Oui</td>\n      <td>Oui</td>\n      <td>Oui</td>\n      <td>Oui</td>\n      <td>Oui</td>\n      <td>...</td>\n      <td>Oui</td>\n      <td>NaN</td>\n      <td>NaN</td>\n      <td>chpayet</td>\n      <td>NaN</td>\n      <td>chpayet</td>\n      <td>NaN</td>\n      <td>{F24B4AF3-17BF-4215-B07F-044AA37EA4E5}</td>\n      <td>NaN</td>\n      <td>NaN</td>\n    </tr>\n    <tr>\n      <th>freq</th>\n      <td>NaN</td>\n      <td>NaN</td>\n      <td>1</td>\n      <td>NaN</td>\n      <td>NaN</td>\n      <td>3</td>\n      <td>3</td>\n      <td>3</td>\n      <td>3</td>\n      <td>2</td>\n      <td>...</td>\n      <td>3</td>\n      <td>NaN</td>\n      <td>NaN</td>\n      <td>3</td>\n      <td>NaN</td>\n      <td>3</td>\n      <td>NaN</td>\n      <td>1</td>\n      <td>NaN</td>\n      <td>NaN</td>\n    </tr>\n    <tr>\n      <th>mean</th>\n      <td>1201.0</td>\n      <td>NaN</td>\n      <td>NaN</td>\n      <td>NaN</td>\n      <td>6048.000000</td>\n      <td>NaN</td>\n      <td>NaN</td>\n      <td>NaN</td>\n      <td>NaN</td>\n      <td>NaN</td>\n      <td>...</td>\n      <td>NaN</td>\n      <td>NaN</td>\n      <td>NaN</td>\n      <td>NaN</td>\n      <td>2.020073e+13</td>\n      <td>NaN</td>\n      <td>2.020073e+13</td>\n      <td>NaN</td>\n      <td>6.967524</td>\n      <td>43.568401</td>\n    </tr>\n    <tr>\n      <th>std</th>\n      <td>400.0</td>\n      <td>NaN</td>\n      <td>NaN</td>\n      <td>NaN</td>\n      <td>32.046841</td>\n      <td>NaN</td>\n      <td>NaN</td>\n      <td>NaN</td>\n      <td>NaN</td>\n      <td>NaN</td>\n      <td>...</td>\n      <td>NaN</td>\n      <td>NaN</td>\n      <td>NaN</td>\n      <td>NaN</td>\n      <td>3.997121e+06</td>\n      <td>NaN</td>\n      <td>3.997207e+06</td>\n      <td>NaN</td>\n      <td>0.014858</td>\n      <td>0.012533</td>\n    </tr>\n    <tr>\n      <th>min</th>\n      <td>801.0</td>\n      <td>NaN</td>\n      <td>NaN</td>\n      <td>NaN</td>\n      <td>6029.000000</td>\n      <td>NaN</td>\n      <td>NaN</td>\n      <td>NaN</td>\n      <td>NaN</td>\n      <td>NaN</td>\n      <td>...</td>\n      <td>NaN</td>\n      <td>NaN</td>\n      <td>NaN</td>\n      <td>NaN</td>\n      <td>2.020072e+13</td>\n      <td>NaN</td>\n      <td>2.020072e+13</td>\n      <td>NaN</td>\n      <td>6.954320</td>\n      <td>43.556717</td>\n    </tr>\n    <tr>\n      <th>25%</th>\n      <td>1001.0</td>\n      <td>NaN</td>\n      <td>NaN</td>\n      <td>NaN</td>\n      <td>6029.500000</td>\n      <td>NaN</td>\n      <td>NaN</td>\n      <td>NaN</td>\n      <td>NaN</td>\n      <td>NaN</td>\n      <td>...</td>\n      <td>NaN</td>\n      <td>NaN</td>\n      <td>NaN</td>\n      <td>NaN</td>\n      <td>2.020073e+13</td>\n      <td>NaN</td>\n      <td>2.020073e+13</td>\n      <td>NaN</td>\n      <td>6.959480</td>\n      <td>43.561783</td>\n    </tr>\n    <tr>\n      <th>50%</th>\n      <td>1201.0</td>\n      <td>NaN</td>\n      <td>NaN</td>\n      <td>NaN</td>\n      <td>6030.000000</td>\n      <td>NaN</td>\n      <td>NaN</td>\n      <td>NaN</td>\n      <td>NaN</td>\n      <td>NaN</td>\n      <td>...</td>\n      <td>NaN</td>\n      <td>NaN</td>\n      <td>NaN</td>\n      <td>NaN</td>\n      <td>2.020073e+13</td>\n      <td>NaN</td>\n      <td>2.020073e+13</td>\n      <td>NaN</td>\n      <td>6.964639</td>\n      <td>43.566849</td>\n    </tr>\n    <tr>\n      <th>75%</th>\n      <td>1401.0</td>\n      <td>NaN</td>\n      <td>NaN</td>\n      <td>NaN</td>\n      <td>6057.500000</td>\n      <td>NaN</td>\n      <td>NaN</td>\n      <td>NaN</td>\n      <td>NaN</td>\n      <td>NaN</td>\n      <td>...</td>\n      <td>NaN</td>\n      <td>NaN</td>\n      <td>NaN</td>\n      <td>NaN</td>\n      <td>2.020073e+13</td>\n      <td>NaN</td>\n      <td>2.020073e+13</td>\n      <td>NaN</td>\n      <td>6.974126</td>\n      <td>43.574244</td>\n    </tr>\n    <tr>\n      <th>max</th>\n      <td>1601.0</td>\n      <td>NaN</td>\n      <td>NaN</td>\n      <td>NaN</td>\n      <td>6085.000000</td>\n      <td>NaN</td>\n      <td>NaN</td>\n      <td>NaN</td>\n      <td>NaN</td>\n      <td>NaN</td>\n      <td>...</td>\n      <td>NaN</td>\n      <td>NaN</td>\n      <td>NaN</td>\n      <td>NaN</td>\n      <td>2.020073e+13</td>\n      <td>NaN</td>\n      <td>2.020073e+13</td>\n      <td>NaN</td>\n      <td>6.983613</td>\n      <td>43.581638</td>\n    </tr>\n  </tbody>\n</table>\n<p>11 rows × 28 columns</p>\n</div>"
     },
     "metadata": {},
     "execution_count": 15
    }
   ]
  },
  {
   "source": [
    "# Valeurs manquantes"
   ],
   "cell_type": "markdown",
   "metadata": {}
  },
  {
   "cell_type": "code",
   "execution_count": 17,
   "metadata": {},
   "outputs": [
    {
     "output_type": "execute_result",
     "data": {
      "text/plain": "objectid              0\nid                    3\nadresse               0\nadresse_comp          3\ncode_insee            0\nveget                 0\nbois                  0\nmetal                 0\ngrav_prop             0\ngrav_sal              0\ncarton                0\nd3e                   0\ndech_men_spe          0\nneon                  0\nbatterie              0\npile                  0\ngaz                   0\nextincteur            0\nhuil_veget_mineral    0\ndate_instal           3\nobservations          3\ncreation              0\ndate_creation         0\nmodification          0\ndate_modification     0\nglobalid              0\n_x                    0\n_y                    0\ndtype: int64"
     },
     "metadata": {},
     "execution_count": 17
    }
   ],
   "source": [
    "dataDecheterie.isna().sum()"
   ]
  },
  {
   "source": [
    "Il n'existe ni d'id, ni de complément d'adresse, ni de date d'installation, ni d'observation pour les déchèteries.\n",
    "\n",
    "Les autres colonnes sont toutes complètes"
   ],
   "cell_type": "markdown",
   "metadata": {}
  },
  {
   "source": [],
   "cell_type": "markdown",
   "metadata": {}
  }
 ],
 "metadata": {
  "kernelspec": {
   "display_name": "Python 3",
   "language": "python",
   "name": "python3"
  },
  "language_info": {
   "codemirror_mode": {
    "name": "ipython",
    "version": 3
   },
   "file_extension": ".py",
   "mimetype": "text/x-python",
   "name": "python",
   "nbconvert_exporter": "python",
   "pygments_lexer": "ipython3",
   "version": "3.8.3-final"
  }
 },
 "nbformat": 4,
 "nbformat_minor": 4
}