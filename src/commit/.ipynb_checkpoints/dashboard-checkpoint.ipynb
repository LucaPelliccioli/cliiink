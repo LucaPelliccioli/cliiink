{
 "cells": [
  {
   "cell_type": "markdown",
   "metadata": {},
   "source": [
    "# Imporation des librairies"
   ]
  },
  {
   "cell_type": "code",
   "execution_count": 9,
   "metadata": {},
   "outputs": [],
   "source": [
    "import pandas as pd \n",
    "from sqlalchemy import create_engine\n",
    "import json\n",
    "from jinja2 import Template \n",
    "from jinja2 import Environment, FileSystemLoader\n",
    "import datetime\n",
    "import matplotlib.pyplot as plt\n",
    "import seaborn as sns"
   ]
  },
  {
   "cell_type": "markdown",
   "metadata": {},
   "source": [
    "# Connection avec la Base De Données"
   ]
  },
  {
   "cell_type": "code",
   "execution_count": 14,
   "metadata": {},
   "outputs": [
    {
     "ename": "KeyError",
     "evalue": "'connector'",
     "output_type": "error",
     "traceback": [
      "\u001b[0;31m---------------------------------------------------------------------------\u001b[0m",
      "\u001b[0;31mKeyError\u001b[0m                                  Traceback (most recent call last)",
      "\u001b[0;32m<ipython-input-14-81e8fd86c08a>\u001b[0m in \u001b[0;36m<module>\u001b[0;34m\u001b[0m\n\u001b[1;32m      4\u001b[0m     \u001b[0mconfig\u001b[0m \u001b[0;34m=\u001b[0m \u001b[0mjson\u001b[0m\u001b[0;34m.\u001b[0m\u001b[0mload\u001b[0m\u001b[0;34m(\u001b[0m\u001b[0mfichier\u001b[0m\u001b[0;34m)\u001b[0m\u001b[0;34m[\u001b[0m\u001b[0;34m\"mysql\"\u001b[0m\u001b[0;34m]\u001b[0m\u001b[0;34m\u001b[0m\u001b[0;34m\u001b[0m\u001b[0m\n\u001b[1;32m      5\u001b[0m \u001b[0;34m\u001b[0m\u001b[0m\n\u001b[0;32m----> 6\u001b[0;31m \u001b[0mengine\u001b[0m \u001b[0;34m=\u001b[0m \u001b[0mcreate_engine\u001b[0m\u001b[0;34m(\u001b[0m\u001b[0;34m'mysql+'\u001b[0m \u001b[0;34m+\u001b[0m \u001b[0mconfig\u001b[0m\u001b[0;34m[\u001b[0m\u001b[0;34m\"connector\"\u001b[0m\u001b[0;34m]\u001b[0m \u001b[0;34m+\u001b[0m \u001b[0;34m'://'\u001b[0m \u001b[0;34m+\u001b[0m \u001b[0mconfig\u001b[0m\u001b[0;34m[\u001b[0m\u001b[0;34m\"user\"\u001b[0m\u001b[0;34m]\u001b[0m \u001b[0;34m+\u001b[0m \u001b[0;34m\":\"\u001b[0m \u001b[0;34m+\u001b[0m \u001b[0mconfig\u001b[0m\u001b[0;34m[\u001b[0m\u001b[0;34m\"password\"\u001b[0m\u001b[0;34m]\u001b[0m \u001b[0;34m+\u001b[0m \u001b[0;34m\"@\"\u001b[0m \u001b[0;34m+\u001b[0m \u001b[0mconfig\u001b[0m\u001b[0;34m[\u001b[0m\u001b[0;34m\"host\"\u001b[0m\u001b[0;34m]\u001b[0m \u001b[0;34m+\u001b[0m \u001b[0;34m\":\"\u001b[0m \u001b[0;34m+\u001b[0m \u001b[0mconfig\u001b[0m\u001b[0;34m[\u001b[0m\u001b[0;34m\"port\"\u001b[0m\u001b[0;34m]\u001b[0m \u001b[0;34m+\u001b[0m \u001b[0;34m\"/\"\u001b[0m \u001b[0;34m+\u001b[0m \u001b[0mconfig\u001b[0m\u001b[0;34m[\u001b[0m\u001b[0;34m\"bdd\"\u001b[0m\u001b[0;34m]\u001b[0m\u001b[0;34m,\u001b[0m \u001b[0mecho\u001b[0m\u001b[0;34m=\u001b[0m\u001b[0;32mTrue\u001b[0m\u001b[0;34m)\u001b[0m\u001b[0;34m\u001b[0m\u001b[0;34m\u001b[0m\u001b[0m\n\u001b[0m",
      "\u001b[0;31mKeyError\u001b[0m: 'connector'"
     ]
    }
   ],
   "source": [
    "fichierConfig = \"../../bdd/config.json\"\n",
    "\n",
    "with open(fichierConfig) as fichier:\n",
    "    config = json.load(fichier)[\"mysql\"]\n",
    "    \n",
    "engine = create_engine('mysql+' + config[\"connector\"] + '://' + config[\"user\"] + \":\" + config[\"password\"] + \"@\" + config[\"host\"] + \":\" + config[\"port\"] + \"/\" + config[\"bdd\"], echo=True)"
   ]
  },
  {
   "cell_type": "markdown",
   "metadata": {},
   "source": [
    "# Test connection"
   ]
  },
  {
   "cell_type": "code",
   "execution_count": 13,
   "metadata": {},
   "outputs": [
    {
     "name": "stdout",
     "output_type": "stream",
     "text": [
      "2020-10-16 10:29:27,835 INFO sqlalchemy.engine.base.Engine SHOW VARIABLES LIKE 'sql_mode'\n",
      "2020-10-16 10:29:27,836 INFO sqlalchemy.engine.base.Engine {}\n",
      "2020-10-16 10:29:27,841 INFO sqlalchemy.engine.base.Engine SHOW VARIABLES LIKE 'lower_case_table_names'\n",
      "2020-10-16 10:29:27,841 INFO sqlalchemy.engine.base.Engine {}\n",
      "2020-10-16 10:29:27,844 INFO sqlalchemy.engine.base.Engine SELECT DATABASE()\n",
      "2020-10-16 10:29:27,845 INFO sqlalchemy.engine.base.Engine {}\n",
      "2020-10-16 10:29:27,847 INFO sqlalchemy.engine.base.Engine show collation where `Charset` = 'utf8mb4' and `Collation` = 'utf8mb4_bin'\n",
      "2020-10-16 10:29:27,849 INFO sqlalchemy.engine.base.Engine {}\n",
      "2020-10-16 10:29:27,851 INFO sqlalchemy.engine.base.Engine SELECT CAST('test plain returns' AS CHAR(60)) AS anon_1\n",
      "2020-10-16 10:29:27,852 INFO sqlalchemy.engine.base.Engine {}\n",
      "2020-10-16 10:29:27,853 INFO sqlalchemy.engine.base.Engine SELECT CAST('test unicode returns' AS CHAR(60)) AS anon_1\n",
      "2020-10-16 10:29:27,854 INFO sqlalchemy.engine.base.Engine {}\n",
      "2020-10-16 10:29:27,856 INFO sqlalchemy.engine.base.Engine SELECT CAST('test collated returns' AS CHAR CHARACTER SET utf8mb4) COLLATE utf8mb4_bin AS anon_1\n",
      "2020-10-16 10:29:27,857 INFO sqlalchemy.engine.base.Engine {}\n",
      "2020-10-16 10:29:27,859 INFO sqlalchemy.engine.base.Engine select * from collecteur;\n",
      "2020-10-16 10:29:27,860 INFO sqlalchemy.engine.base.Engine {}\n"
     ]
    },
    {
     "data": {
      "text/html": [
       "<div>\n",
       "<style scoped>\n",
       "    .dataframe tbody tr th:only-of-type {\n",
       "        vertical-align: middle;\n",
       "    }\n",
       "\n",
       "    .dataframe tbody tr th {\n",
       "        vertical-align: top;\n",
       "    }\n",
       "\n",
       "    .dataframe thead th {\n",
       "        text-align: right;\n",
       "    }\n",
       "</style>\n",
       "<table border=\"1\" class=\"dataframe\">\n",
       "  <thead>\n",
       "    <tr style=\"text-align: right;\">\n",
       "      <th></th>\n",
       "      <th>CO_objectid</th>\n",
       "      <th>CO_id</th>\n",
       "      <th>CO_volume</th>\n",
       "      <th>CO_quantité</th>\n",
       "      <th>CO_dateInstallation</th>\n",
       "      <th>CO_adresse</th>\n",
       "      <th>CO_adresseComplement</th>\n",
       "      <th>CO_codeInsee</th>\n",
       "      <th>CO_observations</th>\n",
       "      <th>CO_createur</th>\n",
       "      <th>CO_dateCreation</th>\n",
       "      <th>CO_modificateur</th>\n",
       "      <th>CO_dateModification</th>\n",
       "      <th>CO_globalId</th>\n",
       "      <th>CO_x</th>\n",
       "      <th>CO_y</th>\n",
       "      <th>DE_objectId</th>\n",
       "      <th>CA_id</th>\n",
       "      <th>TR_id</th>\n",
       "      <th>MA_id</th>\n",
       "    </tr>\n",
       "  </thead>\n",
       "  <tbody>\n",
       "  </tbody>\n",
       "</table>\n",
       "</div>"
      ],
      "text/plain": [
       "Empty DataFrame\n",
       "Columns: [CO_objectid, CO_id, CO_volume, CO_quantité, CO_dateInstallation, CO_adresse, CO_adresseComplement, CO_codeInsee, CO_observations, CO_createur, CO_dateCreation, CO_modificateur, CO_dateModification, CO_globalId, CO_x, CO_y, DE_objectId, CA_id, TR_id, MA_id]\n",
       "Index: []"
      ]
     },
     "execution_count": 13,
     "metadata": {},
     "output_type": "execute_result"
    }
   ],
   "source": [
    "pd.read_sql_query(\"select * from collecteur;\", engine)"
   ]
  },
  {
   "cell_type": "markdown",
   "metadata": {},
   "source": [
    "# Lecture du fichier html et ecriture via Jinja2"
   ]
  },
  {
   "cell_type": "code",
   "execution_count": 5,
   "metadata": {},
   "outputs": [
    {
     "data": {
      "text/plain": [
       "'\\nTMPL_DIR = \"../html\"\\nfichier = \"base.html\"\\ntemplateLoader = FileSystemLoader(searchpath=TMPL_DIR)\\ntemplateEnv = Environment(loader = templateLoader)\\ntemplate = templateEnv.get_template(fichier)\\ndata ={\\n        #...\\n        #...\\n        #...\\n    }\\nprint(template.render(data))\\noutputText = template.render(data)\\nhtml_file = open(\\'../html/...\\', \\'w\\')\\nhtml_file.write(outputText)\\nhtml_file.close()\\n'"
      ]
     },
     "execution_count": 5,
     "metadata": {},
     "output_type": "execute_result"
    }
   ],
   "source": [
    "'''\n",
    "TMPL_DIR = \"../html\"\n",
    "fichier = \"base.html\"\n",
    "templateLoader = FileSystemLoader(searchpath=TMPL_DIR)\n",
    "templateEnv = Environment(loader = templateLoader)\n",
    "template = templateEnv.get_template(fichier)\n",
    "data ={\n",
    "        #...\n",
    "        #...\n",
    "        #...\n",
    "    }\n",
    "print(template.render(data))\n",
    "outputText = template.render(data)\n",
    "html_file = open('../html/...', 'w')\n",
    "html_file.write(outputText)\n",
    "html_file.close()\n",
    "'''"
   ]
  },
  {
   "cell_type": "markdown",
   "metadata": {},
   "source": [
    "# Fonction pour générer les graphiques\n",
    "### champs à renseigner:\n",
    "    - nom du DataFrame\n",
    "    - nom de la colonne des abscisses\n",
    "    - nom de la colonne des ordonnées\n",
    "    - titre du graphique\n",
    "    - titre de l'axe des abscisses\n",
    "    - titre de l'axe des ordonnées\n",
    "    - chemin and name fig"
   ]
  },
  {
   "cell_type": "code",
   "execution_count": 6,
   "metadata": {},
   "outputs": [],
   "source": [
    "def graph(DataFrame, colonne1, colonne2,  titre, xlabel, ylabel, savefig):    \n",
    "    plt.figure(figsize = [7,5])\n",
    "    plt.subplot(111)\n",
    "    plt.plot(DataFrame[colonne1],DataFrame[colonne2])\n",
    "    plt.title(\"{}\".format(titre))\n",
    "    plt.xlabel(\"{}\".format(xlabel))\n",
    "    plt.ylabel(\"{}\".format(ylabel))\n",
    "    plt.savefig(savefig, dpi = 50, format = \"png\")\n",
    "    plt.show()\n",
    "    plt.close()"
   ]
  },
  {
   "cell_type": "code",
   "execution_count": 11,
   "metadata": {},
   "outputs": [
    {
     "data": {
      "text/plain": [
       "'/home/simplon/Bureau/cliiink/src/commit'"
      ]
     },
     "execution_count": 11,
     "metadata": {},
     "output_type": "execute_result"
    }
   ],
   "source": [
    "pwd"
   ]
  },
  {
   "cell_type": "code",
   "execution_count": null,
   "metadata": {},
   "outputs": [],
   "source": []
  }
 ],
 "metadata": {
  "kernelspec": {
   "display_name": "Python 3",
   "language": "python",
   "name": "python3"
  },
  "language_info": {
   "codemirror_mode": {
    "name": "ipython",
    "version": 3
   },
   "file_extension": ".py",
   "mimetype": "text/x-python",
   "name": "python",
   "nbconvert_exporter": "python",
   "pygments_lexer": "ipython3",
   "version": "3.7.6"
  }
 },
 "nbformat": 4,
 "nbformat_minor": 4
}
