{
 "cells": [
  {
   "cell_type": "markdown",
   "metadata": {},
   "source": [
    "# Analyse des jeux de données du verre\n",
    "Ce document analyse les jeux de données fournies par la CACPL sur la collecte hebdomadaire du verre disponible [ici](../../data/collecte verre CACPL)\n",
    "\n",
    "Il ya 3 jeux de données :\n",
    "* Données Verre 2017-2018- 2019 janv à nov : données sur la collecte du verre pour 2017 et 2018, et de janvier à novembre 2019\n",
    "* Verre PAV  décembre 2019 : données sur la collecte du verre de décembre 2019\n",
    "* Verre PAV 2020 : données sur la collecte du verre pour 2020 (janvier à septembre)\n",
    "\n"
   ]
  },
  {
   "cell_type": "markdown",
   "metadata": {},
   "source": [
    "## Importation des librairies"
   ]
  },
  {
   "cell_type": "code",
   "execution_count": 1,
   "metadata": {},
   "outputs": [],
   "source": [
    "import pandas as pd"
   ]
  },
  {
   "cell_type": "markdown",
   "metadata": {},
   "source": [
    "## Lecture des fichiers"
   ]
  },
  {
   "cell_type": "code",
   "execution_count": 2,
   "metadata": {},
   "outputs": [],
   "source": [
    "data171819 = pd.read_excel(\"../data/collecte verre CACPL/Données Verre 2017-2018- 2019 janv à nov.xlsx\", skiprows=[0,1], usecols=\"B:L\")\n",
    "data19 = pd.read_excel(\"../data/collecte verre CACPL/Verre PAV  décembre 2019.xlsx\", skiprows=[0,1,2], usecols=\"B:F\")\n",
    "data20 = pd.read_excel(\"../data/collecte verre CACPL/Verre PAV 2020.xlsx\", skiprows=[0,1,2], usecols=\"B:F\")"
   ]
  },
  {
   "cell_type": "markdown",
   "metadata": {},
   "source": [
    "## Aperçu des fichiers\n",
    "Les données de 2017 à 2019 contiennent 9 variables :\n",
    "* Collecte : type de collecteur \n",
    "* Contenant :\n",
    "* Adresse : adresse du collecteur\n",
    "* Ville : ville du collecteur\n",
    "* Année : année de la collecte\n",
    "* MOIS : mois de la collecte\n",
    "* SEMAINE : semaine de la collecte\n",
    "* date : date de la collecte\n",
    "* heure : heure de la collecte\n",
    "* Taux : \n",
    "* Poids Kg : poids de la collecte en kg pour ce collecteur\n",
    "\n",
    "Les données de 2019 et celles de 2020 contiennent 5 variables :\n",
    "* Prestation : identifiant de la prestattion (collecte)\n",
    "* Date de réalisation : date de la collecte\n",
    "* Lieu de Collecte : adresse du collecteur\n",
    "* Matériel : type de collecteur avec son volume en m<sup>3</sup>\n",
    "* Poids : poids de la collecte en tonne pour ce collecteur\n"
   ]
  },
  {
   "cell_type": "code",
   "execution_count": 3,
   "metadata": {},
   "outputs": [
    {
     "output_type": "execute_result",
     "data": {
      "text/plain": [
       "  Collecte Contenant                Adresse      Ville  Année     MOIS  \\\n",
       "0      PAV   CNT135V  CHEMIN DES BREGUIERES  LE CANNET   2017  Janvier   \n",
       "1      PAV   CNT005V      RUE DES MOULIERES  LE CANNET   2017  Janvier   \n",
       "2      PAV   CNT165V        AVENUE DU REPOS  LE CANNET   2017  Janvier   \n",
       "3      PAV   CNT115V       RUE DES ORANGERS  LE CANNET   2017  Janvier   \n",
       "4      PAV   CNT150V   BOULEVARD D'OLIVETUM  LE CANNET   2017  Janvier   \n",
       "\n",
       "   SEMAINE      date      heure  Taux  Poids Kg  \n",
       "0        1 2017-01-05  06:32:09     2       500  \n",
       "1        1 2017-01-05  06:38:41     2       420  \n",
       "2        1 2017-01-05  06:44:56     1       210  \n",
       "3        1 2017-01-05  06:48:51     2       450  \n",
       "4        1 2017-01-05  06:54:58     3       730  "
      ],
      "text/html": "<div>\n<style scoped>\n    .dataframe tbody tr th:only-of-type {\n        vertical-align: middle;\n    }\n\n    .dataframe tbody tr th {\n        vertical-align: top;\n    }\n\n    .dataframe thead th {\n        text-align: right;\n    }\n</style>\n<table border=\"1\" class=\"dataframe\">\n  <thead>\n    <tr style=\"text-align: right;\">\n      <th></th>\n      <th>Collecte</th>\n      <th>Contenant</th>\n      <th>Adresse</th>\n      <th>Ville</th>\n      <th>Année</th>\n      <th>MOIS</th>\n      <th>SEMAINE</th>\n      <th>date</th>\n      <th>heure</th>\n      <th>Taux</th>\n      <th>Poids Kg</th>\n    </tr>\n  </thead>\n  <tbody>\n    <tr>\n      <th>0</th>\n      <td>PAV</td>\n      <td>CNT135V</td>\n      <td>CHEMIN DES BREGUIERES</td>\n      <td>LE CANNET</td>\n      <td>2017</td>\n      <td>Janvier</td>\n      <td>1</td>\n      <td>2017-01-05</td>\n      <td>06:32:09</td>\n      <td>2</td>\n      <td>500</td>\n    </tr>\n    <tr>\n      <th>1</th>\n      <td>PAV</td>\n      <td>CNT005V</td>\n      <td>RUE DES MOULIERES</td>\n      <td>LE CANNET</td>\n      <td>2017</td>\n      <td>Janvier</td>\n      <td>1</td>\n      <td>2017-01-05</td>\n      <td>06:38:41</td>\n      <td>2</td>\n      <td>420</td>\n    </tr>\n    <tr>\n      <th>2</th>\n      <td>PAV</td>\n      <td>CNT165V</td>\n      <td>AVENUE DU REPOS</td>\n      <td>LE CANNET</td>\n      <td>2017</td>\n      <td>Janvier</td>\n      <td>1</td>\n      <td>2017-01-05</td>\n      <td>06:44:56</td>\n      <td>1</td>\n      <td>210</td>\n    </tr>\n    <tr>\n      <th>3</th>\n      <td>PAV</td>\n      <td>CNT115V</td>\n      <td>RUE DES ORANGERS</td>\n      <td>LE CANNET</td>\n      <td>2017</td>\n      <td>Janvier</td>\n      <td>1</td>\n      <td>2017-01-05</td>\n      <td>06:48:51</td>\n      <td>2</td>\n      <td>450</td>\n    </tr>\n    <tr>\n      <th>4</th>\n      <td>PAV</td>\n      <td>CNT150V</td>\n      <td>BOULEVARD D'OLIVETUM</td>\n      <td>LE CANNET</td>\n      <td>2017</td>\n      <td>Janvier</td>\n      <td>1</td>\n      <td>2017-01-05</td>\n      <td>06:54:58</td>\n      <td>3</td>\n      <td>730</td>\n    </tr>\n  </tbody>\n</table>\n</div>"
     },
     "metadata": {},
     "execution_count": 3
    }
   ],
   "source": [
    "data171819.head()"
   ]
  },
  {
   "cell_type": "code",
   "execution_count": 4,
   "metadata": {},
   "outputs": [
    {
     "output_type": "execute_result",
     "data": {
      "text/plain": [
       "    Prestation Date de réalisation                 Lieu de Collecte  \\\n",
       "0  12001054939          2020-01-02              CAPL-CNT-VOIE JULIA   \n",
       "1  12001054940          2020-01-02  CAPL-CNT-BREGUIERES/FONT GALLOU   \n",
       "2  12001054941          2020-01-02      CAPL-CNT-AV ECOLES/ROTHMANS   \n",
       "3  12001054942          2020-01-02                CAPL-CAN-MERLETTE   \n",
       "4  12001054943          2020-01-02                CAPL-CAN-RIOU/HLM   \n",
       "\n",
       "           Matériel   Poids  \n",
       "0    COLONNE K 3 m3  0.4360  \n",
       "1    COLONNE K 3 m3  0.4360  \n",
       "2    COLONNE K 3 m3  0.4360  \n",
       "3  COLONNE K 2,5 m3  0.5450  \n",
       "4    COLONNE K 4 m3  0.5814  "
      ],
      "text/html": "<div>\n<style scoped>\n    .dataframe tbody tr th:only-of-type {\n        vertical-align: middle;\n    }\n\n    .dataframe tbody tr th {\n        vertical-align: top;\n    }\n\n    .dataframe thead th {\n        text-align: right;\n    }\n</style>\n<table border=\"1\" class=\"dataframe\">\n  <thead>\n    <tr style=\"text-align: right;\">\n      <th></th>\n      <th>Prestation</th>\n      <th>Date de réalisation</th>\n      <th>Lieu de Collecte</th>\n      <th>Matériel</th>\n      <th>Poids</th>\n    </tr>\n  </thead>\n  <tbody>\n    <tr>\n      <th>0</th>\n      <td>12001054939</td>\n      <td>2020-01-02</td>\n      <td>CAPL-CNT-VOIE JULIA</td>\n      <td>COLONNE K 3 m3</td>\n      <td>0.4360</td>\n    </tr>\n    <tr>\n      <th>1</th>\n      <td>12001054940</td>\n      <td>2020-01-02</td>\n      <td>CAPL-CNT-BREGUIERES/FONT GALLOU</td>\n      <td>COLONNE K 3 m3</td>\n      <td>0.4360</td>\n    </tr>\n    <tr>\n      <th>2</th>\n      <td>12001054941</td>\n      <td>2020-01-02</td>\n      <td>CAPL-CNT-AV ECOLES/ROTHMANS</td>\n      <td>COLONNE K 3 m3</td>\n      <td>0.4360</td>\n    </tr>\n    <tr>\n      <th>3</th>\n      <td>12001054942</td>\n      <td>2020-01-02</td>\n      <td>CAPL-CAN-MERLETTE</td>\n      <td>COLONNE K 2,5 m3</td>\n      <td>0.5450</td>\n    </tr>\n    <tr>\n      <th>4</th>\n      <td>12001054943</td>\n      <td>2020-01-02</td>\n      <td>CAPL-CAN-RIOU/HLM</td>\n      <td>COLONNE K 4 m3</td>\n      <td>0.5814</td>\n    </tr>\n  </tbody>\n</table>\n</div>"
     },
     "metadata": {},
     "execution_count": 4
    }
   ],
   "source": [
    "data19.head()"
   ]
  },
  {
   "cell_type": "code",
   "execution_count": 5,
   "metadata": {},
   "outputs": [
    {
     "output_type": "execute_result",
     "data": {
      "text/plain": [
       "    Prestation Date de réalisation                 Lieu de Collecte  \\\n",
       "0  12001054939          2020-01-02              CAPL-CNT-VOIE JULIA   \n",
       "1  12001054940          2020-01-02  CAPL-CNT-BREGUIERES/FONT GALLOU   \n",
       "2  12001054941          2020-01-02      CAPL-CNT-AV ECOLES/ROTHMANS   \n",
       "3  12001054942          2020-01-02                CAPL-CAN-MERLETTE   \n",
       "4  12001054943          2020-01-02                CAPL-CAN-RIOU/HLM   \n",
       "\n",
       "           Matériel   Poids  \n",
       "0    COLONNE K 3 m3  0.4360  \n",
       "1    COLONNE K 3 m3  0.4360  \n",
       "2    COLONNE K 3 m3  0.4360  \n",
       "3  COLONNE K 2,5 m3  0.5450  \n",
       "4    COLONNE K 4 m3  0.5814  "
      ],
      "text/html": "<div>\n<style scoped>\n    .dataframe tbody tr th:only-of-type {\n        vertical-align: middle;\n    }\n\n    .dataframe tbody tr th {\n        vertical-align: top;\n    }\n\n    .dataframe thead th {\n        text-align: right;\n    }\n</style>\n<table border=\"1\" class=\"dataframe\">\n  <thead>\n    <tr style=\"text-align: right;\">\n      <th></th>\n      <th>Prestation</th>\n      <th>Date de réalisation</th>\n      <th>Lieu de Collecte</th>\n      <th>Matériel</th>\n      <th>Poids</th>\n    </tr>\n  </thead>\n  <tbody>\n    <tr>\n      <th>0</th>\n      <td>12001054939</td>\n      <td>2020-01-02</td>\n      <td>CAPL-CNT-VOIE JULIA</td>\n      <td>COLONNE K 3 m3</td>\n      <td>0.4360</td>\n    </tr>\n    <tr>\n      <th>1</th>\n      <td>12001054940</td>\n      <td>2020-01-02</td>\n      <td>CAPL-CNT-BREGUIERES/FONT GALLOU</td>\n      <td>COLONNE K 3 m3</td>\n      <td>0.4360</td>\n    </tr>\n    <tr>\n      <th>2</th>\n      <td>12001054941</td>\n      <td>2020-01-02</td>\n      <td>CAPL-CNT-AV ECOLES/ROTHMANS</td>\n      <td>COLONNE K 3 m3</td>\n      <td>0.4360</td>\n    </tr>\n    <tr>\n      <th>3</th>\n      <td>12001054942</td>\n      <td>2020-01-02</td>\n      <td>CAPL-CAN-MERLETTE</td>\n      <td>COLONNE K 2,5 m3</td>\n      <td>0.5450</td>\n    </tr>\n    <tr>\n      <th>4</th>\n      <td>12001054943</td>\n      <td>2020-01-02</td>\n      <td>CAPL-CAN-RIOU/HLM</td>\n      <td>COLONNE K 4 m3</td>\n      <td>0.5814</td>\n    </tr>\n  </tbody>\n</table>\n</div>"
     },
     "metadata": {},
     "execution_count": 5
    }
   ],
   "source": [
    "data20.head()"
   ]
  },
  {
   "source": [
    "## Remarque\n",
    "On note que les deux jeux de données data19 et data20 sont identiques (et data19 sera par conséquent ignoré)\n",
    "\n",
    "La période de décembre étant manquante, elle ne sera pas considérée par la suite"
   ],
   "cell_type": "markdown",
   "metadata": {}
  },
  {
   "cell_type": "code",
   "execution_count": 6,
   "metadata": {},
   "outputs": [
    {
     "output_type": "execute_result",
     "data": {
      "text/plain": [
       "True"
      ]
     },
     "metadata": {},
     "execution_count": 6
    }
   ],
   "source": [
    "data19.equals(data20)"
   ]
  },
  {
   "cell_type": "markdown",
   "metadata": {},
   "source": [
    "## Dimension du jeu de données"
   ]
  },
  {
   "cell_type": "code",
   "execution_count": 7,
   "metadata": {},
   "outputs": [
    {
     "output_type": "stream",
     "name": "stdout",
     "text": [
      "Le jeu de données data171819 recense 24760 collectes avec 11 variables\nLe jeu de données data20 recense 5476 collectes avec 5 variables\n"
     ]
    }
   ],
   "source": [
    "print(\"Le jeu de données data171819 recense\", data171819.shape[0], \"collectes avec\", data171819.shape[1], \"variables\")\n",
    "print(\"Le jeu de données data20 recense\", data20.shape[0], \"collectes avec\", data20.shape[1], \"variables\")"
   ]
  },
  {
   "cell_type": "markdown",
   "metadata": {},
   "source": [
    "## Valeurs manquantes\n",
    "Les deux jeux de données sont complets\n"
   ]
  },
  {
   "cell_type": "code",
   "execution_count": 8,
   "metadata": {},
   "outputs": [
    {
     "output_type": "execute_result",
     "data": {
      "text/plain": [
       "Collecte     0\n",
       "Contenant    0\n",
       "Adresse      0\n",
       "Ville        0\n",
       "Année        0\n",
       "MOIS         0\n",
       "SEMAINE      0\n",
       "date         0\n",
       "heure        0\n",
       "Taux         0\n",
       "Poids Kg     0\n",
       "dtype: int64"
      ]
     },
     "metadata": {},
     "execution_count": 8
    }
   ],
   "source": [
    "data171819.isna().sum()"
   ]
  },
  {
   "cell_type": "code",
   "execution_count": 9,
   "metadata": {},
   "outputs": [
    {
     "output_type": "execute_result",
     "data": {
      "text/plain": [
       "Prestation             0\n",
       "Date de réalisation    0\n",
       "Lieu de Collecte       0\n",
       "Matériel               0\n",
       "Poids                  0\n",
       "dtype: int64"
      ]
     },
     "metadata": {},
     "execution_count": 9
    }
   ],
   "source": [
    "data20.isna().sum()"
   ]
  },
  {
   "cell_type": "markdown",
   "metadata": {},
   "source": [
    "## Décompte des doublons\n",
    "Un doublon est présent pour la collecte de l'hôtel Miramar à Théoule-sur-Mer à la date du 9 avril 2019"
   ]
  },
  {
   "cell_type": "code",
   "execution_count": 10,
   "metadata": {},
   "outputs": [
    {
     "output_type": "execute_result",
     "data": {
      "text/plain": [
       "1"
      ]
     },
     "metadata": {},
     "execution_count": 10
    }
   ],
   "source": [
    "data171819.duplicated().sum()"
   ]
  },
  {
   "cell_type": "code",
   "execution_count": 11,
   "metadata": {},
   "outputs": [
    {
     "output_type": "execute_result",
     "data": {
      "text/plain": [
       "      Collecte Contenant        Adresse            Ville  Année   MOIS  \\\n",
       "20410      PAV   THE025V  HOTEL MIRAMAR  THÉOULE-SUR-MER   2019  Avril   \n",
       "\n",
       "       SEMAINE      date      heure  Taux  Poids Kg  \n",
       "20410       15 2019-04-09  08:38:35     1       300  "
      ],
      "text/html": "<div>\n<style scoped>\n    .dataframe tbody tr th:only-of-type {\n        vertical-align: middle;\n    }\n\n    .dataframe tbody tr th {\n        vertical-align: top;\n    }\n\n    .dataframe thead th {\n        text-align: right;\n    }\n</style>\n<table border=\"1\" class=\"dataframe\">\n  <thead>\n    <tr style=\"text-align: right;\">\n      <th></th>\n      <th>Collecte</th>\n      <th>Contenant</th>\n      <th>Adresse</th>\n      <th>Ville</th>\n      <th>Année</th>\n      <th>MOIS</th>\n      <th>SEMAINE</th>\n      <th>date</th>\n      <th>heure</th>\n      <th>Taux</th>\n      <th>Poids Kg</th>\n    </tr>\n  </thead>\n  <tbody>\n    <tr>\n      <th>20410</th>\n      <td>PAV</td>\n      <td>THE025V</td>\n      <td>HOTEL MIRAMAR</td>\n      <td>THÉOULE-SUR-MER</td>\n      <td>2019</td>\n      <td>Avril</td>\n      <td>15</td>\n      <td>2019-04-09</td>\n      <td>08:38:35</td>\n      <td>1</td>\n      <td>300</td>\n    </tr>\n  </tbody>\n</table>\n</div>"
     },
     "metadata": {},
     "execution_count": 11
    }
   ],
   "source": [
    "data171819[data171819.duplicated()]"
   ]
  },
  {
   "source": [
    "Il y a 90 doublons les collectes de 2020"
   ],
   "cell_type": "markdown",
   "metadata": {}
  },
  {
   "cell_type": "code",
   "execution_count": 12,
   "metadata": {},
   "outputs": [
    {
     "output_type": "execute_result",
     "data": {
      "text/plain": [
       "90"
      ]
     },
     "metadata": {},
     "execution_count": 12
    }
   ],
   "source": [
    "data20.duplicated(subset=data20.columns[1:]).sum()"
   ]
  },
  {
   "cell_type": "code",
   "execution_count": 13,
   "metadata": {},
   "outputs": [],
   "source": [
    "# Activation de l'affichage de toutes les lignes d'un DataFrame\n",
    "pd.set_option('display.max_rows', None)"
   ]
  },
  {
   "cell_type": "code",
   "execution_count": 14,
   "metadata": {},
   "outputs": [
    {
     "output_type": "execute_result",
     "data": {
      "text/plain": [
       "       Prestation Date de réalisation                     Lieu de Collecte  \\\n",
       "54    12001058278          2020-01-03             CAPL-CNT-MONT JOLI/STADE   \n",
       "119   12001240931          2020-01-06      CAPL-CAN-JAURES/MARCHE GAMBETTA   \n",
       "155   12001241943          2020-01-08         CAPL-MAN-BON PUITS/CIMETIERE   \n",
       "214   12001307326          2020-01-13              CAPL-CAN-RIOU/RONDPOINT   \n",
       "256   12001331179          2020-01-14         CAPL-MAN-BON PUITS/CIMETIERE   \n",
       "309   12001345782          2020-01-16   CAPL-MOU-NOTRE DAME DE VIE/RENAULT   \n",
       "376   12001460953          2020-01-21        CAPL-THE-AV COTE D'AZUR/SNACK   \n",
       "390   12001460969          2020-01-21         CAPL-MAN-BON PUITS/CIMETIERE   \n",
       "393   12001460971          2020-01-21         CAPL-MAN-BON PUITS/CIMETIERE   \n",
       "452   12001494419          2020-01-23             CAPL-CNT-MONT JOLI/STADE   \n",
       "540   12001653729          2020-01-28         CAPL-MAN-BON PUITS/CIMETIERE   \n",
       "566   12001658653          2020-01-29         CAPL-CAN-STE MARGUERITE/GARE   \n",
       "596   12001660114          2020-01-30   CAPL-MOU-NOTRE DAME DE VIE/RENAULT   \n",
       "667   12002096097          2020-02-04         CAPL-MAN-BON PUITS/CIMETIERE   \n",
       "952   12002365534          2020-02-18  CAPL-MAN-GRAND DUC/PARKING CORNICHE   \n",
       "970   12002365553          2020-02-18         CAPL-MAN-BON PUITS/CIMETIERE   \n",
       "1028  12002398624          2020-02-20   CAPL-MOU-NOTRE DAME DE VIE/RENAULT   \n",
       "1082  12002434438          2020-02-24              CAPL-CAN-RIOU/RONDPOINT   \n",
       "1106  12002495792          2020-02-25         CAPL-MAN-BON PUITS/CIMETIERE   \n",
       "1150  12002558585          2020-02-27   CAPL-MOU-NOTRE DAME DE VIE/RENAULT   \n",
       "1219  12003096932          2020-03-03        CAPL-THE-AV COTE D'AZUR/SNACK   \n",
       "1233  12003096948          2020-03-03         CAPL-MAN-BON PUITS/CIMETIERE   \n",
       "1289  12003126933          2020-03-05   CAPL-MOU-NOTRE DAME DE VIE/RENAULT   \n",
       "1328  12003214908          2020-03-09              CAPL-CAN-RIOU/RONDPOINT   \n",
       "1374  12003219053          2020-03-10         CAPL-MAN-BON PUITS/CIMETIERE   \n",
       "1568  12003378959          2020-03-19   CAPL-MOU-NOTRE DAME DE VIE/RENAULT   \n",
       "1646  12003438425          2020-03-24         CAPL-MAN-BON PUITS/CIMETIERE   \n",
       "1757  12003532103          2020-03-31        CAPL-THE-AV COTE D'AZUR/SNACK   \n",
       "2144  12004264915          2020-04-23             CAPL-CNT-MONT JOLI/STADE   \n",
       "2280  12004369446          2020-04-30   CAPL-MOU-NOTRE DAME DE VIE/RENAULT   \n",
       "2348  12005027933          2020-05-05  CAPL-MAN-GRAND DUC/PARKING CORNICHE   \n",
       "2355  12005027949          2020-05-05         CAPL-MAN-BON PUITS/CIMETIERE   \n",
       "2406  12005054852          2020-05-07   CAPL-MOU-NOTRE DAME DE VIE/RENAULT   \n",
       "2513  12005158483          2020-05-14   CAPL-MOU-NOTRE DAME DE VIE/RENAULT   \n",
       "2611  12005285798          2020-05-19         CAPL-MAN-BON PUITS/CIMETIERE   \n",
       "2775  12005457106          2020-05-28   CAPL-MOU-NOTRE DAME DE VIE/RENAULT   \n",
       "2862  12006209024          2020-06-02         CAPL-MAN-BON PUITS/CIMETIERE   \n",
       "2988  12006221499          2020-06-09         CAPL-MAN-BON PUITS/CIMETIERE   \n",
       "3031  12006355300          2020-06-11             CAPL-CNT-MONT JOLI/STADE   \n",
       "3041  12006355311          2020-06-11   CAPL-MOU-NOTRE DAME DE VIE/RENAULT   \n",
       "3139  12006371999          2020-06-16        CAPL-THE-AV COTE D'AZUR/SNACK   \n",
       "3170  12006403613          2020-06-18             CAPL-CNT-MONT JOLI/STADE   \n",
       "3257  12006510529          2020-06-23         CAPL-MAN-BON PUITS/CIMETIERE   \n",
       "3374  12006626011          2020-06-29              CAPL-CAN-RIOU/RONDPOINT   \n",
       "3528  12007103675          2020-07-07         CAPL-MAN-BON PUITS/CIMETIERE   \n",
       "3575  12007195255          2020-07-09             CAPL-CNT-MONT JOLI/STADE   \n",
       "3672  12007275455          2020-07-14       CAPL-THE-MISTRAL/P FIGUEIRETTE   \n",
       "3679  12007275462          2020-07-14  CAPL-MAN-GRAND DUC/PARKING CORNICHE   \n",
       "3717  12007338653          2020-07-16             CAPL-CNT-MONT JOLI/STADE   \n",
       "3735  12007338672          2020-07-16   CAPL-MOU-NOTRE DAME DE VIE/RENAULT   \n",
       "3751  12007342988          2020-07-17               CAPL-CAN-BD MONTFLEURY   \n",
       "3884  12007553864          2020-07-23             CAPL-CNT-MONT JOLI/STADE   \n",
       "3970  12007656491          2020-07-28        CAPL-THE-AV COTE D'AZUR/SNACK   \n",
       "3983  12007656501          2020-07-28  CAPL-MAN-GRAND DUC/PARKING CORNICHE   \n",
       "3990  12007656508          2020-07-28         CAPL-MAN-BON PUITS/CIMETIERE   \n",
       "4130  12008066248          2020-08-04        CAPL-THE-AV COTE D'AZUR/SNACK   \n",
       "4152  12008066273          2020-08-04         CAPL-MAN-BON PUITS/CIMETIERE   \n",
       "4195  12008089525          2020-08-06             CAPL-CNT-MONT JOLI/STADE   \n",
       "4266  12008161100          2020-08-10      CAPL-CAN-RIOUFFE/SQUARE MERIMEE   \n",
       "4281  12008161116          2020-08-10              CAPL-CAN-RIOU/RONDPOINT   \n",
       "4305  12008197906          2020-08-11    CAPL-MOU-LA PLAINE/LYONNAISE EAUX   \n",
       "4309  12008197910          2020-08-11       CAPL-THE-MISTRAL/P FIGUEIRETTE   \n",
       "4319  12008197921          2020-08-11         CAPL-MAN-BON PUITS/CIMETIERE   \n",
       "4377  12008251168          2020-08-13   CAPL-MOU-NOTRE DAME DE VIE/RENAULT   \n",
       "4447  12008414161          2020-08-17              CAPL-CAN-RIOU/RONDPOINT   \n",
       "4454  12008414738          2020-08-18       CAPL-THE-MISTRAL/P FIGUEIRETTE   \n",
       "4481  12008414768          2020-08-18         CAPL-MAN-BON PUITS/CIMETIERE   \n",
       "4538  12008450872          2020-08-20   CAPL-MOU-NOTRE DAME DE VIE/RENAULT   \n",
       "4626  12008573294          2020-08-25       CAPL-THE-MISTRAL/P FIGUEIRETTE   \n",
       "4646  12008573315          2020-08-25         CAPL-MAN-BON PUITS/CIMETIERE   \n",
       "4695  12008586991          2020-08-27             CAPL-CNT-MONT JOLI/STADE   \n",
       "4787  12009040081          2020-09-01       CAPL-THE-MISTRAL/P FIGUEIRETTE   \n",
       "4797  12009040094          2020-09-01         CAPL-MAN-BON PUITS/CIMETIERE   \n",
       "4929  12009100748          2020-09-07    CAPL-CAN-RONDPOINT DUBOYS DANGERS   \n",
       "4954  12009195938          2020-09-08       CAPL-THE-MISTRAL/P FIGUEIRETTE   \n",
       "4969  12009195888          2020-09-08         CAPL-MAN-BON PUITS/CIMETIERE   \n",
       "5003  12009287384          2020-09-10             CAPL-CNT-MONT JOLI/STADE   \n",
       "5014  12009287395          2020-09-10   CAPL-MOU-NOTRE DAME DE VIE/RENAULT   \n",
       "5070  12009330090          2020-09-14        CAPL-CAN-MASSENA/LYCEE CARNOT   \n",
       "5084  12009333595          2020-09-15       CAPL-THE-MISTRAL/P FIGUEIRETTE   \n",
       "5089  12009333599          2020-09-15        CAPL-THE-AV COTE D'AZUR/SNACK   \n",
       "5167  12009361798          2020-09-17   CAPL-MOU-NOTRE DAME DE VIE/RENAULT   \n",
       "5207  12009428930          2020-09-18    CAPL-CAN-ALSACE PROLONGE/ALEX III   \n",
       "5253  12009514201          2020-09-22       CAPL-THE-MISTRAL/P FIGUEIRETTE   \n",
       "5272  12009514218          2020-09-22         CAPL-MAN-BON PUITS/CIMETIERE   \n",
       "5307  12009545231          2020-09-24      CAPL-MOU-LAMARTINE/MAIRIE ANNEX   \n",
       "5311  12009545227          2020-09-24   CAPL-MOU-NOTRE DAME DE VIE/RENAULT   \n",
       "5333  12009545205          2020-09-24             CAPL-CNT-MONT JOLI/STADE   \n",
       "5431  12009689687          2020-09-29       CAPL-THE-MISTRAL/P FIGUEIRETTE   \n",
       "5434  12009689690          2020-09-29        CAPL-THE-AV COTE D'AZUR/SNACK   \n",
       "\n",
       "                     Matériel   Poids  \n",
       "54      COLONNE ENTERREE 4 m3  0.8975  \n",
       "119   COLONNE ENTERREE K 4 m3  1.3432  \n",
       "155              COLONNE 4 m3  0.5800  \n",
       "214   COLONNE ENTERREE K 4 m3  0.6453  \n",
       "256              COLONNE 4 m3  0.3065  \n",
       "309     COLONNE ENTERREE 4 m3  0.2676  \n",
       "376              COLONNE 3 m3  0.5850  \n",
       "390              COLONNE 4 m3  0.2962  \n",
       "393              COLONNE 4 m3  0.2962  \n",
       "452     COLONNE ENTERREE 4 m3  1.0400  \n",
       "540              COLONNE 4 m3  0.4969  \n",
       "566            COLONNE K 3 m3  0.4046  \n",
       "596     COLONNE ENTERREE 4 m3  0.6259  \n",
       "667              COLONNE 4 m3  0.2773  \n",
       "952              COLONNE 3 m3  0.2168  \n",
       "970              COLONNE 4 m3  0.2891  \n",
       "1028    COLONNE ENTERREE 4 m3  0.3200  \n",
       "1082  COLONNE ENTERREE K 4 m3  0.2256  \n",
       "1106             COLONNE 4 m3  0.7451  \n",
       "1150    COLONNE ENTERREE 4 m3  0.3434  \n",
       "1219             COLONNE 3 m3  0.3496  \n",
       "1233             COLONNE 4 m3  0.3425  \n",
       "1289    COLONNE ENTERREE 4 m3  0.4107  \n",
       "1328  COLONNE ENTERREE K 4 m3  0.5713  \n",
       "1374             COLONNE 4 m3  0.2894  \n",
       "1568    COLONNE ENTERREE 4 m3  0.3243  \n",
       "1646             COLONNE 4 m3  0.2578  \n",
       "1757             COLONNE 3 m3  0.2298  \n",
       "2144    COLONNE ENTERREE 4 m3  0.5911  \n",
       "2280    COLONNE ENTERREE 4 m3  0.3155  \n",
       "2348             COLONNE 3 m3  0.7707  \n",
       "2355             COLONNE 4 m3  0.5111  \n",
       "2406    COLONNE ENTERREE 4 m3  0.5911  \n",
       "2513    COLONNE ENTERREE 4 m3  0.3761  \n",
       "2611             COLONNE 4 m3  0.6928  \n",
       "2775    COLONNE ENTERREE 4 m3  0.5632  \n",
       "2862             COLONNE 4 m3  0.6304  \n",
       "2988             COLONNE 4 m3  0.2826  \n",
       "3031    COLONNE ENTERREE 4 m3  0.8447  \n",
       "3041    COLONNE ENTERREE 4 m3  0.2883  \n",
       "3139             COLONNE 3 m3  0.5832  \n",
       "3170    COLONNE ENTERREE 4 m3  0.6990  \n",
       "3257             COLONNE 4 m3  0.5714  \n",
       "3374  COLONNE ENTERREE K 4 m3  0.5997  \n",
       "3528             COLONNE 4 m3  0.5123  \n",
       "3575    COLONNE ENTERREE 4 m3  0.7525  \n",
       "3672             COLONNE 3 m3  0.4920  \n",
       "3679             COLONNE 3 m3  0.2373  \n",
       "3717    COLONNE ENTERREE 4 m3  0.6385  \n",
       "3735    COLONNE ENTERREE 4 m3  0.7127  \n",
       "3751  COLONNE ENTERREE K 4 m3  0.5663  \n",
       "3884    COLONNE ENTERREE 4 m3  0.9016  \n",
       "3970             COLONNE 3 m3  0.4964  \n",
       "3983             COLONNE 3 m3  0.4054  \n",
       "3990             COLONNE 4 m3  0.5406  \n",
       "4130             COLONNE 3 m3  0.6197  \n",
       "4152             COLONNE 4 m3  0.5046  \n",
       "4195    COLONNE ENTERREE 4 m3  0.8454  \n",
       "4266  COLONNE ENTERREE K 4 m3  1.0490  \n",
       "4281  COLONNE ENTERREE K 4 m3  0.5009  \n",
       "4305             COLONNE 3 m3  0.4305  \n",
       "4309             COLONNE 3 m3  0.4857  \n",
       "4319             COLONNE 4 m3  1.2699  \n",
       "4377    COLONNE ENTERREE 4 m3  0.5804  \n",
       "4447  COLONNE ENTERREE K 4 m3  0.2620  \n",
       "4454             COLONNE 3 m3  0.4640  \n",
       "4481             COLONNE 4 m3  1.3568  \n",
       "4538    COLONNE ENTERREE 4 m3  0.6972  \n",
       "4626             COLONNE 3 m3  0.5520  \n",
       "4646             COLONNE 4 m3  0.7935  \n",
       "4695    COLONNE ENTERREE 4 m3  0.6984  \n",
       "4787             COLONNE 3 m3  0.5331  \n",
       "4797             COLONNE 4 m3  0.5429  \n",
       "4929         COLONNE K 2,5 m3  0.3145  \n",
       "4954             COLONNE 3 m3  0.1926  \n",
       "4969             COLONNE 4 m3  0.7779  \n",
       "5003    COLONNE ENTERREE 4 m3  0.5538  \n",
       "5014    COLONNE ENTERREE 4 m3  0.4145  \n",
       "5070  COLONNE ENTERREE K 4 m3  0.2627  \n",
       "5084             COLONNE 3 m3  0.1989  \n",
       "5089             COLONNE 3 m3  0.1989  \n",
       "5167    COLONNE ENTERREE 4 m3  0.6571  \n",
       "5207  COLONNE ENTERREE K 4 m3  0.5298  \n",
       "5253             COLONNE 3 m3  0.2381  \n",
       "5272             COLONNE 4 m3  0.2846  \n",
       "5307    COLONNE ENTERREE 4 m3  0.3042  \n",
       "5311    COLONNE ENTERREE 4 m3  0.3042  \n",
       "5333    COLONNE ENTERREE 4 m3  0.7010  \n",
       "5431             COLONNE 3 m3  0.1842  \n",
       "5434             COLONNE 3 m3  0.1842  "
      ],
      "text/html": "<div>\n<style scoped>\n    .dataframe tbody tr th:only-of-type {\n        vertical-align: middle;\n    }\n\n    .dataframe tbody tr th {\n        vertical-align: top;\n    }\n\n    .dataframe thead th {\n        text-align: right;\n    }\n</style>\n<table border=\"1\" class=\"dataframe\">\n  <thead>\n    <tr style=\"text-align: right;\">\n      <th></th>\n      <th>Prestation</th>\n      <th>Date de réalisation</th>\n      <th>Lieu de Collecte</th>\n      <th>Matériel</th>\n      <th>Poids</th>\n    </tr>\n  </thead>\n  <tbody>\n    <tr>\n      <th>54</th>\n      <td>12001058278</td>\n      <td>2020-01-03</td>\n      <td>CAPL-CNT-MONT JOLI/STADE</td>\n      <td>COLONNE ENTERREE 4 m3</td>\n      <td>0.8975</td>\n    </tr>\n    <tr>\n      <th>119</th>\n      <td>12001240931</td>\n      <td>2020-01-06</td>\n      <td>CAPL-CAN-JAURES/MARCHE GAMBETTA</td>\n      <td>COLONNE ENTERREE K 4 m3</td>\n      <td>1.3432</td>\n    </tr>\n    <tr>\n      <th>155</th>\n      <td>12001241943</td>\n      <td>2020-01-08</td>\n      <td>CAPL-MAN-BON PUITS/CIMETIERE</td>\n      <td>COLONNE 4 m3</td>\n      <td>0.5800</td>\n    </tr>\n    <tr>\n      <th>214</th>\n      <td>12001307326</td>\n      <td>2020-01-13</td>\n      <td>CAPL-CAN-RIOU/RONDPOINT</td>\n      <td>COLONNE ENTERREE K 4 m3</td>\n      <td>0.6453</td>\n    </tr>\n    <tr>\n      <th>256</th>\n      <td>12001331179</td>\n      <td>2020-01-14</td>\n      <td>CAPL-MAN-BON PUITS/CIMETIERE</td>\n      <td>COLONNE 4 m3</td>\n      <td>0.3065</td>\n    </tr>\n    <tr>\n      <th>309</th>\n      <td>12001345782</td>\n      <td>2020-01-16</td>\n      <td>CAPL-MOU-NOTRE DAME DE VIE/RENAULT</td>\n      <td>COLONNE ENTERREE 4 m3</td>\n      <td>0.2676</td>\n    </tr>\n    <tr>\n      <th>376</th>\n      <td>12001460953</td>\n      <td>2020-01-21</td>\n      <td>CAPL-THE-AV COTE D'AZUR/SNACK</td>\n      <td>COLONNE 3 m3</td>\n      <td>0.5850</td>\n    </tr>\n    <tr>\n      <th>390</th>\n      <td>12001460969</td>\n      <td>2020-01-21</td>\n      <td>CAPL-MAN-BON PUITS/CIMETIERE</td>\n      <td>COLONNE 4 m3</td>\n      <td>0.2962</td>\n    </tr>\n    <tr>\n      <th>393</th>\n      <td>12001460971</td>\n      <td>2020-01-21</td>\n      <td>CAPL-MAN-BON PUITS/CIMETIERE</td>\n      <td>COLONNE 4 m3</td>\n      <td>0.2962</td>\n    </tr>\n    <tr>\n      <th>452</th>\n      <td>12001494419</td>\n      <td>2020-01-23</td>\n      <td>CAPL-CNT-MONT JOLI/STADE</td>\n      <td>COLONNE ENTERREE 4 m3</td>\n      <td>1.0400</td>\n    </tr>\n    <tr>\n      <th>540</th>\n      <td>12001653729</td>\n      <td>2020-01-28</td>\n      <td>CAPL-MAN-BON PUITS/CIMETIERE</td>\n      <td>COLONNE 4 m3</td>\n      <td>0.4969</td>\n    </tr>\n    <tr>\n      <th>566</th>\n      <td>12001658653</td>\n      <td>2020-01-29</td>\n      <td>CAPL-CAN-STE MARGUERITE/GARE</td>\n      <td>COLONNE K 3 m3</td>\n      <td>0.4046</td>\n    </tr>\n    <tr>\n      <th>596</th>\n      <td>12001660114</td>\n      <td>2020-01-30</td>\n      <td>CAPL-MOU-NOTRE DAME DE VIE/RENAULT</td>\n      <td>COLONNE ENTERREE 4 m3</td>\n      <td>0.6259</td>\n    </tr>\n    <tr>\n      <th>667</th>\n      <td>12002096097</td>\n      <td>2020-02-04</td>\n      <td>CAPL-MAN-BON PUITS/CIMETIERE</td>\n      <td>COLONNE 4 m3</td>\n      <td>0.2773</td>\n    </tr>\n    <tr>\n      <th>952</th>\n      <td>12002365534</td>\n      <td>2020-02-18</td>\n      <td>CAPL-MAN-GRAND DUC/PARKING CORNICHE</td>\n      <td>COLONNE 3 m3</td>\n      <td>0.2168</td>\n    </tr>\n    <tr>\n      <th>970</th>\n      <td>12002365553</td>\n      <td>2020-02-18</td>\n      <td>CAPL-MAN-BON PUITS/CIMETIERE</td>\n      <td>COLONNE 4 m3</td>\n      <td>0.2891</td>\n    </tr>\n    <tr>\n      <th>1028</th>\n      <td>12002398624</td>\n      <td>2020-02-20</td>\n      <td>CAPL-MOU-NOTRE DAME DE VIE/RENAULT</td>\n      <td>COLONNE ENTERREE 4 m3</td>\n      <td>0.3200</td>\n    </tr>\n    <tr>\n      <th>1082</th>\n      <td>12002434438</td>\n      <td>2020-02-24</td>\n      <td>CAPL-CAN-RIOU/RONDPOINT</td>\n      <td>COLONNE ENTERREE K 4 m3</td>\n      <td>0.2256</td>\n    </tr>\n    <tr>\n      <th>1106</th>\n      <td>12002495792</td>\n      <td>2020-02-25</td>\n      <td>CAPL-MAN-BON PUITS/CIMETIERE</td>\n      <td>COLONNE 4 m3</td>\n      <td>0.7451</td>\n    </tr>\n    <tr>\n      <th>1150</th>\n      <td>12002558585</td>\n      <td>2020-02-27</td>\n      <td>CAPL-MOU-NOTRE DAME DE VIE/RENAULT</td>\n      <td>COLONNE ENTERREE 4 m3</td>\n      <td>0.3434</td>\n    </tr>\n    <tr>\n      <th>1219</th>\n      <td>12003096932</td>\n      <td>2020-03-03</td>\n      <td>CAPL-THE-AV COTE D'AZUR/SNACK</td>\n      <td>COLONNE 3 m3</td>\n      <td>0.3496</td>\n    </tr>\n    <tr>\n      <th>1233</th>\n      <td>12003096948</td>\n      <td>2020-03-03</td>\n      <td>CAPL-MAN-BON PUITS/CIMETIERE</td>\n      <td>COLONNE 4 m3</td>\n      <td>0.3425</td>\n    </tr>\n    <tr>\n      <th>1289</th>\n      <td>12003126933</td>\n      <td>2020-03-05</td>\n      <td>CAPL-MOU-NOTRE DAME DE VIE/RENAULT</td>\n      <td>COLONNE ENTERREE 4 m3</td>\n      <td>0.4107</td>\n    </tr>\n    <tr>\n      <th>1328</th>\n      <td>12003214908</td>\n      <td>2020-03-09</td>\n      <td>CAPL-CAN-RIOU/RONDPOINT</td>\n      <td>COLONNE ENTERREE K 4 m3</td>\n      <td>0.5713</td>\n    </tr>\n    <tr>\n      <th>1374</th>\n      <td>12003219053</td>\n      <td>2020-03-10</td>\n      <td>CAPL-MAN-BON PUITS/CIMETIERE</td>\n      <td>COLONNE 4 m3</td>\n      <td>0.2894</td>\n    </tr>\n    <tr>\n      <th>1568</th>\n      <td>12003378959</td>\n      <td>2020-03-19</td>\n      <td>CAPL-MOU-NOTRE DAME DE VIE/RENAULT</td>\n      <td>COLONNE ENTERREE 4 m3</td>\n      <td>0.3243</td>\n    </tr>\n    <tr>\n      <th>1646</th>\n      <td>12003438425</td>\n      <td>2020-03-24</td>\n      <td>CAPL-MAN-BON PUITS/CIMETIERE</td>\n      <td>COLONNE 4 m3</td>\n      <td>0.2578</td>\n    </tr>\n    <tr>\n      <th>1757</th>\n      <td>12003532103</td>\n      <td>2020-03-31</td>\n      <td>CAPL-THE-AV COTE D'AZUR/SNACK</td>\n      <td>COLONNE 3 m3</td>\n      <td>0.2298</td>\n    </tr>\n    <tr>\n      <th>2144</th>\n      <td>12004264915</td>\n      <td>2020-04-23</td>\n      <td>CAPL-CNT-MONT JOLI/STADE</td>\n      <td>COLONNE ENTERREE 4 m3</td>\n      <td>0.5911</td>\n    </tr>\n    <tr>\n      <th>2280</th>\n      <td>12004369446</td>\n      <td>2020-04-30</td>\n      <td>CAPL-MOU-NOTRE DAME DE VIE/RENAULT</td>\n      <td>COLONNE ENTERREE 4 m3</td>\n      <td>0.3155</td>\n    </tr>\n    <tr>\n      <th>2348</th>\n      <td>12005027933</td>\n      <td>2020-05-05</td>\n      <td>CAPL-MAN-GRAND DUC/PARKING CORNICHE</td>\n      <td>COLONNE 3 m3</td>\n      <td>0.7707</td>\n    </tr>\n    <tr>\n      <th>2355</th>\n      <td>12005027949</td>\n      <td>2020-05-05</td>\n      <td>CAPL-MAN-BON PUITS/CIMETIERE</td>\n      <td>COLONNE 4 m3</td>\n      <td>0.5111</td>\n    </tr>\n    <tr>\n      <th>2406</th>\n      <td>12005054852</td>\n      <td>2020-05-07</td>\n      <td>CAPL-MOU-NOTRE DAME DE VIE/RENAULT</td>\n      <td>COLONNE ENTERREE 4 m3</td>\n      <td>0.5911</td>\n    </tr>\n    <tr>\n      <th>2513</th>\n      <td>12005158483</td>\n      <td>2020-05-14</td>\n      <td>CAPL-MOU-NOTRE DAME DE VIE/RENAULT</td>\n      <td>COLONNE ENTERREE 4 m3</td>\n      <td>0.3761</td>\n    </tr>\n    <tr>\n      <th>2611</th>\n      <td>12005285798</td>\n      <td>2020-05-19</td>\n      <td>CAPL-MAN-BON PUITS/CIMETIERE</td>\n      <td>COLONNE 4 m3</td>\n      <td>0.6928</td>\n    </tr>\n    <tr>\n      <th>2775</th>\n      <td>12005457106</td>\n      <td>2020-05-28</td>\n      <td>CAPL-MOU-NOTRE DAME DE VIE/RENAULT</td>\n      <td>COLONNE ENTERREE 4 m3</td>\n      <td>0.5632</td>\n    </tr>\n    <tr>\n      <th>2862</th>\n      <td>12006209024</td>\n      <td>2020-06-02</td>\n      <td>CAPL-MAN-BON PUITS/CIMETIERE</td>\n      <td>COLONNE 4 m3</td>\n      <td>0.6304</td>\n    </tr>\n    <tr>\n      <th>2988</th>\n      <td>12006221499</td>\n      <td>2020-06-09</td>\n      <td>CAPL-MAN-BON PUITS/CIMETIERE</td>\n      <td>COLONNE 4 m3</td>\n      <td>0.2826</td>\n    </tr>\n    <tr>\n      <th>3031</th>\n      <td>12006355300</td>\n      <td>2020-06-11</td>\n      <td>CAPL-CNT-MONT JOLI/STADE</td>\n      <td>COLONNE ENTERREE 4 m3</td>\n      <td>0.8447</td>\n    </tr>\n    <tr>\n      <th>3041</th>\n      <td>12006355311</td>\n      <td>2020-06-11</td>\n      <td>CAPL-MOU-NOTRE DAME DE VIE/RENAULT</td>\n      <td>COLONNE ENTERREE 4 m3</td>\n      <td>0.2883</td>\n    </tr>\n    <tr>\n      <th>3139</th>\n      <td>12006371999</td>\n      <td>2020-06-16</td>\n      <td>CAPL-THE-AV COTE D'AZUR/SNACK</td>\n      <td>COLONNE 3 m3</td>\n      <td>0.5832</td>\n    </tr>\n    <tr>\n      <th>3170</th>\n      <td>12006403613</td>\n      <td>2020-06-18</td>\n      <td>CAPL-CNT-MONT JOLI/STADE</td>\n      <td>COLONNE ENTERREE 4 m3</td>\n      <td>0.6990</td>\n    </tr>\n    <tr>\n      <th>3257</th>\n      <td>12006510529</td>\n      <td>2020-06-23</td>\n      <td>CAPL-MAN-BON PUITS/CIMETIERE</td>\n      <td>COLONNE 4 m3</td>\n      <td>0.5714</td>\n    </tr>\n    <tr>\n      <th>3374</th>\n      <td>12006626011</td>\n      <td>2020-06-29</td>\n      <td>CAPL-CAN-RIOU/RONDPOINT</td>\n      <td>COLONNE ENTERREE K 4 m3</td>\n      <td>0.5997</td>\n    </tr>\n    <tr>\n      <th>3528</th>\n      <td>12007103675</td>\n      <td>2020-07-07</td>\n      <td>CAPL-MAN-BON PUITS/CIMETIERE</td>\n      <td>COLONNE 4 m3</td>\n      <td>0.5123</td>\n    </tr>\n    <tr>\n      <th>3575</th>\n      <td>12007195255</td>\n      <td>2020-07-09</td>\n      <td>CAPL-CNT-MONT JOLI/STADE</td>\n      <td>COLONNE ENTERREE 4 m3</td>\n      <td>0.7525</td>\n    </tr>\n    <tr>\n      <th>3672</th>\n      <td>12007275455</td>\n      <td>2020-07-14</td>\n      <td>CAPL-THE-MISTRAL/P FIGUEIRETTE</td>\n      <td>COLONNE 3 m3</td>\n      <td>0.4920</td>\n    </tr>\n    <tr>\n      <th>3679</th>\n      <td>12007275462</td>\n      <td>2020-07-14</td>\n      <td>CAPL-MAN-GRAND DUC/PARKING CORNICHE</td>\n      <td>COLONNE 3 m3</td>\n      <td>0.2373</td>\n    </tr>\n    <tr>\n      <th>3717</th>\n      <td>12007338653</td>\n      <td>2020-07-16</td>\n      <td>CAPL-CNT-MONT JOLI/STADE</td>\n      <td>COLONNE ENTERREE 4 m3</td>\n      <td>0.6385</td>\n    </tr>\n    <tr>\n      <th>3735</th>\n      <td>12007338672</td>\n      <td>2020-07-16</td>\n      <td>CAPL-MOU-NOTRE DAME DE VIE/RENAULT</td>\n      <td>COLONNE ENTERREE 4 m3</td>\n      <td>0.7127</td>\n    </tr>\n    <tr>\n      <th>3751</th>\n      <td>12007342988</td>\n      <td>2020-07-17</td>\n      <td>CAPL-CAN-BD MONTFLEURY</td>\n      <td>COLONNE ENTERREE K 4 m3</td>\n      <td>0.5663</td>\n    </tr>\n    <tr>\n      <th>3884</th>\n      <td>12007553864</td>\n      <td>2020-07-23</td>\n      <td>CAPL-CNT-MONT JOLI/STADE</td>\n      <td>COLONNE ENTERREE 4 m3</td>\n      <td>0.9016</td>\n    </tr>\n    <tr>\n      <th>3970</th>\n      <td>12007656491</td>\n      <td>2020-07-28</td>\n      <td>CAPL-THE-AV COTE D'AZUR/SNACK</td>\n      <td>COLONNE 3 m3</td>\n      <td>0.4964</td>\n    </tr>\n    <tr>\n      <th>3983</th>\n      <td>12007656501</td>\n      <td>2020-07-28</td>\n      <td>CAPL-MAN-GRAND DUC/PARKING CORNICHE</td>\n      <td>COLONNE 3 m3</td>\n      <td>0.4054</td>\n    </tr>\n    <tr>\n      <th>3990</th>\n      <td>12007656508</td>\n      <td>2020-07-28</td>\n      <td>CAPL-MAN-BON PUITS/CIMETIERE</td>\n      <td>COLONNE 4 m3</td>\n      <td>0.5406</td>\n    </tr>\n    <tr>\n      <th>4130</th>\n      <td>12008066248</td>\n      <td>2020-08-04</td>\n      <td>CAPL-THE-AV COTE D'AZUR/SNACK</td>\n      <td>COLONNE 3 m3</td>\n      <td>0.6197</td>\n    </tr>\n    <tr>\n      <th>4152</th>\n      <td>12008066273</td>\n      <td>2020-08-04</td>\n      <td>CAPL-MAN-BON PUITS/CIMETIERE</td>\n      <td>COLONNE 4 m3</td>\n      <td>0.5046</td>\n    </tr>\n    <tr>\n      <th>4195</th>\n      <td>12008089525</td>\n      <td>2020-08-06</td>\n      <td>CAPL-CNT-MONT JOLI/STADE</td>\n      <td>COLONNE ENTERREE 4 m3</td>\n      <td>0.8454</td>\n    </tr>\n    <tr>\n      <th>4266</th>\n      <td>12008161100</td>\n      <td>2020-08-10</td>\n      <td>CAPL-CAN-RIOUFFE/SQUARE MERIMEE</td>\n      <td>COLONNE ENTERREE K 4 m3</td>\n      <td>1.0490</td>\n    </tr>\n    <tr>\n      <th>4281</th>\n      <td>12008161116</td>\n      <td>2020-08-10</td>\n      <td>CAPL-CAN-RIOU/RONDPOINT</td>\n      <td>COLONNE ENTERREE K 4 m3</td>\n      <td>0.5009</td>\n    </tr>\n    <tr>\n      <th>4305</th>\n      <td>12008197906</td>\n      <td>2020-08-11</td>\n      <td>CAPL-MOU-LA PLAINE/LYONNAISE EAUX</td>\n      <td>COLONNE 3 m3</td>\n      <td>0.4305</td>\n    </tr>\n    <tr>\n      <th>4309</th>\n      <td>12008197910</td>\n      <td>2020-08-11</td>\n      <td>CAPL-THE-MISTRAL/P FIGUEIRETTE</td>\n      <td>COLONNE 3 m3</td>\n      <td>0.4857</td>\n    </tr>\n    <tr>\n      <th>4319</th>\n      <td>12008197921</td>\n      <td>2020-08-11</td>\n      <td>CAPL-MAN-BON PUITS/CIMETIERE</td>\n      <td>COLONNE 4 m3</td>\n      <td>1.2699</td>\n    </tr>\n    <tr>\n      <th>4377</th>\n      <td>12008251168</td>\n      <td>2020-08-13</td>\n      <td>CAPL-MOU-NOTRE DAME DE VIE/RENAULT</td>\n      <td>COLONNE ENTERREE 4 m3</td>\n      <td>0.5804</td>\n    </tr>\n    <tr>\n      <th>4447</th>\n      <td>12008414161</td>\n      <td>2020-08-17</td>\n      <td>CAPL-CAN-RIOU/RONDPOINT</td>\n      <td>COLONNE ENTERREE K 4 m3</td>\n      <td>0.2620</td>\n    </tr>\n    <tr>\n      <th>4454</th>\n      <td>12008414738</td>\n      <td>2020-08-18</td>\n      <td>CAPL-THE-MISTRAL/P FIGUEIRETTE</td>\n      <td>COLONNE 3 m3</td>\n      <td>0.4640</td>\n    </tr>\n    <tr>\n      <th>4481</th>\n      <td>12008414768</td>\n      <td>2020-08-18</td>\n      <td>CAPL-MAN-BON PUITS/CIMETIERE</td>\n      <td>COLONNE 4 m3</td>\n      <td>1.3568</td>\n    </tr>\n    <tr>\n      <th>4538</th>\n      <td>12008450872</td>\n      <td>2020-08-20</td>\n      <td>CAPL-MOU-NOTRE DAME DE VIE/RENAULT</td>\n      <td>COLONNE ENTERREE 4 m3</td>\n      <td>0.6972</td>\n    </tr>\n    <tr>\n      <th>4626</th>\n      <td>12008573294</td>\n      <td>2020-08-25</td>\n      <td>CAPL-THE-MISTRAL/P FIGUEIRETTE</td>\n      <td>COLONNE 3 m3</td>\n      <td>0.5520</td>\n    </tr>\n    <tr>\n      <th>4646</th>\n      <td>12008573315</td>\n      <td>2020-08-25</td>\n      <td>CAPL-MAN-BON PUITS/CIMETIERE</td>\n      <td>COLONNE 4 m3</td>\n      <td>0.7935</td>\n    </tr>\n    <tr>\n      <th>4695</th>\n      <td>12008586991</td>\n      <td>2020-08-27</td>\n      <td>CAPL-CNT-MONT JOLI/STADE</td>\n      <td>COLONNE ENTERREE 4 m3</td>\n      <td>0.6984</td>\n    </tr>\n    <tr>\n      <th>4787</th>\n      <td>12009040081</td>\n      <td>2020-09-01</td>\n      <td>CAPL-THE-MISTRAL/P FIGUEIRETTE</td>\n      <td>COLONNE 3 m3</td>\n      <td>0.5331</td>\n    </tr>\n    <tr>\n      <th>4797</th>\n      <td>12009040094</td>\n      <td>2020-09-01</td>\n      <td>CAPL-MAN-BON PUITS/CIMETIERE</td>\n      <td>COLONNE 4 m3</td>\n      <td>0.5429</td>\n    </tr>\n    <tr>\n      <th>4929</th>\n      <td>12009100748</td>\n      <td>2020-09-07</td>\n      <td>CAPL-CAN-RONDPOINT DUBOYS DANGERS</td>\n      <td>COLONNE K 2,5 m3</td>\n      <td>0.3145</td>\n    </tr>\n    <tr>\n      <th>4954</th>\n      <td>12009195938</td>\n      <td>2020-09-08</td>\n      <td>CAPL-THE-MISTRAL/P FIGUEIRETTE</td>\n      <td>COLONNE 3 m3</td>\n      <td>0.1926</td>\n    </tr>\n    <tr>\n      <th>4969</th>\n      <td>12009195888</td>\n      <td>2020-09-08</td>\n      <td>CAPL-MAN-BON PUITS/CIMETIERE</td>\n      <td>COLONNE 4 m3</td>\n      <td>0.7779</td>\n    </tr>\n    <tr>\n      <th>5003</th>\n      <td>12009287384</td>\n      <td>2020-09-10</td>\n      <td>CAPL-CNT-MONT JOLI/STADE</td>\n      <td>COLONNE ENTERREE 4 m3</td>\n      <td>0.5538</td>\n    </tr>\n    <tr>\n      <th>5014</th>\n      <td>12009287395</td>\n      <td>2020-09-10</td>\n      <td>CAPL-MOU-NOTRE DAME DE VIE/RENAULT</td>\n      <td>COLONNE ENTERREE 4 m3</td>\n      <td>0.4145</td>\n    </tr>\n    <tr>\n      <th>5070</th>\n      <td>12009330090</td>\n      <td>2020-09-14</td>\n      <td>CAPL-CAN-MASSENA/LYCEE CARNOT</td>\n      <td>COLONNE ENTERREE K 4 m3</td>\n      <td>0.2627</td>\n    </tr>\n    <tr>\n      <th>5084</th>\n      <td>12009333595</td>\n      <td>2020-09-15</td>\n      <td>CAPL-THE-MISTRAL/P FIGUEIRETTE</td>\n      <td>COLONNE 3 m3</td>\n      <td>0.1989</td>\n    </tr>\n    <tr>\n      <th>5089</th>\n      <td>12009333599</td>\n      <td>2020-09-15</td>\n      <td>CAPL-THE-AV COTE D'AZUR/SNACK</td>\n      <td>COLONNE 3 m3</td>\n      <td>0.1989</td>\n    </tr>\n    <tr>\n      <th>5167</th>\n      <td>12009361798</td>\n      <td>2020-09-17</td>\n      <td>CAPL-MOU-NOTRE DAME DE VIE/RENAULT</td>\n      <td>COLONNE ENTERREE 4 m3</td>\n      <td>0.6571</td>\n    </tr>\n    <tr>\n      <th>5207</th>\n      <td>12009428930</td>\n      <td>2020-09-18</td>\n      <td>CAPL-CAN-ALSACE PROLONGE/ALEX III</td>\n      <td>COLONNE ENTERREE K 4 m3</td>\n      <td>0.5298</td>\n    </tr>\n    <tr>\n      <th>5253</th>\n      <td>12009514201</td>\n      <td>2020-09-22</td>\n      <td>CAPL-THE-MISTRAL/P FIGUEIRETTE</td>\n      <td>COLONNE 3 m3</td>\n      <td>0.2381</td>\n    </tr>\n    <tr>\n      <th>5272</th>\n      <td>12009514218</td>\n      <td>2020-09-22</td>\n      <td>CAPL-MAN-BON PUITS/CIMETIERE</td>\n      <td>COLONNE 4 m3</td>\n      <td>0.2846</td>\n    </tr>\n    <tr>\n      <th>5307</th>\n      <td>12009545231</td>\n      <td>2020-09-24</td>\n      <td>CAPL-MOU-LAMARTINE/MAIRIE ANNEX</td>\n      <td>COLONNE ENTERREE 4 m3</td>\n      <td>0.3042</td>\n    </tr>\n    <tr>\n      <th>5311</th>\n      <td>12009545227</td>\n      <td>2020-09-24</td>\n      <td>CAPL-MOU-NOTRE DAME DE VIE/RENAULT</td>\n      <td>COLONNE ENTERREE 4 m3</td>\n      <td>0.3042</td>\n    </tr>\n    <tr>\n      <th>5333</th>\n      <td>12009545205</td>\n      <td>2020-09-24</td>\n      <td>CAPL-CNT-MONT JOLI/STADE</td>\n      <td>COLONNE ENTERREE 4 m3</td>\n      <td>0.7010</td>\n    </tr>\n    <tr>\n      <th>5431</th>\n      <td>12009689687</td>\n      <td>2020-09-29</td>\n      <td>CAPL-THE-MISTRAL/P FIGUEIRETTE</td>\n      <td>COLONNE 3 m3</td>\n      <td>0.1842</td>\n    </tr>\n    <tr>\n      <th>5434</th>\n      <td>12009689690</td>\n      <td>2020-09-29</td>\n      <td>CAPL-THE-AV COTE D'AZUR/SNACK</td>\n      <td>COLONNE 3 m3</td>\n      <td>0.1842</td>\n    </tr>\n  </tbody>\n</table>\n</div>"
     },
     "metadata": {},
     "execution_count": 14
    }
   ],
   "source": [
    "data20[data20.duplicated(subset=data20.columns[1:])]"
   ]
  },
  {
   "cell_type": "code",
   "execution_count": 15,
   "metadata": {},
   "outputs": [],
   "source": [
    "# Réinitialisation de l'affichage des lignes\n",
    "pd.reset_option('display.max_rows')"
   ]
  },
  {
   "cell_type": "code",
   "execution_count": 16,
   "metadata": {},
   "outputs": [
    {
     "output_type": "execute_result",
     "data": {
      "text/plain": [
       "     Prestation Date de réalisation          Lieu de Collecte  \\\n",
       "53  12001058279          2020-01-03  CAPL-CNT-MONT JOLI/STADE   \n",
       "54  12001058278          2020-01-03  CAPL-CNT-MONT JOLI/STADE   \n",
       "\n",
       "                 Matériel   Poids  \n",
       "53  COLONNE ENTERREE 4 m3  0.8975  \n",
       "54  COLONNE ENTERREE 4 m3  0.8975  "
      ],
      "text/html": "<div>\n<style scoped>\n    .dataframe tbody tr th:only-of-type {\n        vertical-align: middle;\n    }\n\n    .dataframe tbody tr th {\n        vertical-align: top;\n    }\n\n    .dataframe thead th {\n        text-align: right;\n    }\n</style>\n<table border=\"1\" class=\"dataframe\">\n  <thead>\n    <tr style=\"text-align: right;\">\n      <th></th>\n      <th>Prestation</th>\n      <th>Date de réalisation</th>\n      <th>Lieu de Collecte</th>\n      <th>Matériel</th>\n      <th>Poids</th>\n    </tr>\n  </thead>\n  <tbody>\n    <tr>\n      <th>53</th>\n      <td>12001058279</td>\n      <td>2020-01-03</td>\n      <td>CAPL-CNT-MONT JOLI/STADE</td>\n      <td>COLONNE ENTERREE 4 m3</td>\n      <td>0.8975</td>\n    </tr>\n    <tr>\n      <th>54</th>\n      <td>12001058278</td>\n      <td>2020-01-03</td>\n      <td>CAPL-CNT-MONT JOLI/STADE</td>\n      <td>COLONNE ENTERREE 4 m3</td>\n      <td>0.8975</td>\n    </tr>\n  </tbody>\n</table>\n</div>"
     },
     "metadata": {},
     "execution_count": 16
    }
   ],
   "source": [
    "# Exemple de doublon\n",
    "data20[(data20[\"Date de réalisation\"] == \"2020-01-03\") & (data20[\"Lieu de Collecte\"] == \"CAPL-CNT-MONT JOLI/STADE\")]\n"
   ]
  },
  {
   "source": [
    "## Suppression des doublons"
   ],
   "cell_type": "markdown",
   "metadata": {}
  },
  {
   "cell_type": "code",
   "execution_count": 17,
   "metadata": {},
   "outputs": [
    {
     "output_type": "execute_result",
     "data": {
      "text/plain": [
       "      Collecte Contenant                      Adresse      Ville  Année  \\\n",
       "0          PAV   CNT135V        CHEMIN DES BREGUIERES  LE CANNET   2017   \n",
       "1          PAV   CNT005V            RUE DES MOULIERES  LE CANNET   2017   \n",
       "2          PAV   CNT165V              AVENUE DU REPOS  LE CANNET   2017   \n",
       "3          PAV   CNT115V             RUE DES ORANGERS  LE CANNET   2017   \n",
       "4          PAV   CNT150V         BOULEVARD D'OLIVETUM  LE CANNET   2017   \n",
       "...        ...       ...                          ...        ...    ...   \n",
       "24755      PAV   CAN013V          ALLEE DE LA LIBERTE     CANNES   2019   \n",
       "24756      PAV   CAN017V               AVENUE LAUGIER     CANNES   2019   \n",
       "24757      PAV   CAN152V           AVENUE ISOLA BELLA     CANNES   2019   \n",
       "24758      PAV   CAN159V  55 AVENUE DU ROI ALBERT 1ER     CANNES   2019   \n",
       "24759      PAV   CAN175V              RUE FELIX FAURE     CANNES   2019   \n",
       "\n",
       "           MOIS  SEMAINE      date      heure  Taux  Poids Kg  \n",
       "0       Janvier        1 2017-01-05  06:32:09     2       500  \n",
       "1       Janvier        1 2017-01-05  06:38:41     2       420  \n",
       "2       Janvier        1 2017-01-05  06:44:56     1       210  \n",
       "3       Janvier        1 2017-01-05  06:48:51     2       450  \n",
       "4       Janvier        1 2017-01-05  06:54:58     3       730  \n",
       "...         ...      ...        ...       ...   ...       ...  \n",
       "24755  Novembre       47 2019-11-22  09:04:01     1       250  \n",
       "24756  Novembre       47 2019-11-22  09:10:11     2       450  \n",
       "24757  Novembre       47 2019-11-22  07:10:00     4       970  \n",
       "24758  Novembre       47 2019-11-22  08:13:47     1       230  \n",
       "24759  Novembre       47 2019-11-22  08:53:39     1       280  \n",
       "\n",
       "[24760 rows x 11 columns]"
      ],
      "text/html": "<div>\n<style scoped>\n    .dataframe tbody tr th:only-of-type {\n        vertical-align: middle;\n    }\n\n    .dataframe tbody tr th {\n        vertical-align: top;\n    }\n\n    .dataframe thead th {\n        text-align: right;\n    }\n</style>\n<table border=\"1\" class=\"dataframe\">\n  <thead>\n    <tr style=\"text-align: right;\">\n      <th></th>\n      <th>Collecte</th>\n      <th>Contenant</th>\n      <th>Adresse</th>\n      <th>Ville</th>\n      <th>Année</th>\n      <th>MOIS</th>\n      <th>SEMAINE</th>\n      <th>date</th>\n      <th>heure</th>\n      <th>Taux</th>\n      <th>Poids Kg</th>\n    </tr>\n  </thead>\n  <tbody>\n    <tr>\n      <th>0</th>\n      <td>PAV</td>\n      <td>CNT135V</td>\n      <td>CHEMIN DES BREGUIERES</td>\n      <td>LE CANNET</td>\n      <td>2017</td>\n      <td>Janvier</td>\n      <td>1</td>\n      <td>2017-01-05</td>\n      <td>06:32:09</td>\n      <td>2</td>\n      <td>500</td>\n    </tr>\n    <tr>\n      <th>1</th>\n      <td>PAV</td>\n      <td>CNT005V</td>\n      <td>RUE DES MOULIERES</td>\n      <td>LE CANNET</td>\n      <td>2017</td>\n      <td>Janvier</td>\n      <td>1</td>\n      <td>2017-01-05</td>\n      <td>06:38:41</td>\n      <td>2</td>\n      <td>420</td>\n    </tr>\n    <tr>\n      <th>2</th>\n      <td>PAV</td>\n      <td>CNT165V</td>\n      <td>AVENUE DU REPOS</td>\n      <td>LE CANNET</td>\n      <td>2017</td>\n      <td>Janvier</td>\n      <td>1</td>\n      <td>2017-01-05</td>\n      <td>06:44:56</td>\n      <td>1</td>\n      <td>210</td>\n    </tr>\n    <tr>\n      <th>3</th>\n      <td>PAV</td>\n      <td>CNT115V</td>\n      <td>RUE DES ORANGERS</td>\n      <td>LE CANNET</td>\n      <td>2017</td>\n      <td>Janvier</td>\n      <td>1</td>\n      <td>2017-01-05</td>\n      <td>06:48:51</td>\n      <td>2</td>\n      <td>450</td>\n    </tr>\n    <tr>\n      <th>4</th>\n      <td>PAV</td>\n      <td>CNT150V</td>\n      <td>BOULEVARD D'OLIVETUM</td>\n      <td>LE CANNET</td>\n      <td>2017</td>\n      <td>Janvier</td>\n      <td>1</td>\n      <td>2017-01-05</td>\n      <td>06:54:58</td>\n      <td>3</td>\n      <td>730</td>\n    </tr>\n    <tr>\n      <th>...</th>\n      <td>...</td>\n      <td>...</td>\n      <td>...</td>\n      <td>...</td>\n      <td>...</td>\n      <td>...</td>\n      <td>...</td>\n      <td>...</td>\n      <td>...</td>\n      <td>...</td>\n      <td>...</td>\n    </tr>\n    <tr>\n      <th>24755</th>\n      <td>PAV</td>\n      <td>CAN013V</td>\n      <td>ALLEE DE LA LIBERTE</td>\n      <td>CANNES</td>\n      <td>2019</td>\n      <td>Novembre</td>\n      <td>47</td>\n      <td>2019-11-22</td>\n      <td>09:04:01</td>\n      <td>1</td>\n      <td>250</td>\n    </tr>\n    <tr>\n      <th>24756</th>\n      <td>PAV</td>\n      <td>CAN017V</td>\n      <td>AVENUE LAUGIER</td>\n      <td>CANNES</td>\n      <td>2019</td>\n      <td>Novembre</td>\n      <td>47</td>\n      <td>2019-11-22</td>\n      <td>09:10:11</td>\n      <td>2</td>\n      <td>450</td>\n    </tr>\n    <tr>\n      <th>24757</th>\n      <td>PAV</td>\n      <td>CAN152V</td>\n      <td>AVENUE ISOLA BELLA</td>\n      <td>CANNES</td>\n      <td>2019</td>\n      <td>Novembre</td>\n      <td>47</td>\n      <td>2019-11-22</td>\n      <td>07:10:00</td>\n      <td>4</td>\n      <td>970</td>\n    </tr>\n    <tr>\n      <th>24758</th>\n      <td>PAV</td>\n      <td>CAN159V</td>\n      <td>55 AVENUE DU ROI ALBERT 1ER</td>\n      <td>CANNES</td>\n      <td>2019</td>\n      <td>Novembre</td>\n      <td>47</td>\n      <td>2019-11-22</td>\n      <td>08:13:47</td>\n      <td>1</td>\n      <td>230</td>\n    </tr>\n    <tr>\n      <th>24759</th>\n      <td>PAV</td>\n      <td>CAN175V</td>\n      <td>RUE FELIX FAURE</td>\n      <td>CANNES</td>\n      <td>2019</td>\n      <td>Novembre</td>\n      <td>47</td>\n      <td>2019-11-22</td>\n      <td>08:53:39</td>\n      <td>1</td>\n      <td>280</td>\n    </tr>\n  </tbody>\n</table>\n<p>24760 rows × 11 columns</p>\n</div>"
     },
     "metadata": {},
     "execution_count": 17
    }
   ],
   "source": [
    "data171819"
   ]
  },
  {
   "cell_type": "code",
   "execution_count": 18,
   "metadata": {},
   "outputs": [
    {
     "output_type": "execute_result",
     "data": {
      "text/plain": [
       "      Collecte Contenant                      Adresse      Ville  Année  \\\n",
       "0          PAV   CNT135V        CHEMIN DES BREGUIERES  LE CANNET   2017   \n",
       "1          PAV   CNT005V            RUE DES MOULIERES  LE CANNET   2017   \n",
       "2          PAV   CNT165V              AVENUE DU REPOS  LE CANNET   2017   \n",
       "3          PAV   CNT115V             RUE DES ORANGERS  LE CANNET   2017   \n",
       "4          PAV   CNT150V         BOULEVARD D'OLIVETUM  LE CANNET   2017   \n",
       "...        ...       ...                          ...        ...    ...   \n",
       "24755      PAV   CAN013V          ALLEE DE LA LIBERTE     CANNES   2019   \n",
       "24756      PAV   CAN017V               AVENUE LAUGIER     CANNES   2019   \n",
       "24757      PAV   CAN152V           AVENUE ISOLA BELLA     CANNES   2019   \n",
       "24758      PAV   CAN159V  55 AVENUE DU ROI ALBERT 1ER     CANNES   2019   \n",
       "24759      PAV   CAN175V              RUE FELIX FAURE     CANNES   2019   \n",
       "\n",
       "           MOIS  SEMAINE      date      heure  Taux  Poids Kg  \n",
       "0       Janvier        1 2017-01-05  06:32:09     2       500  \n",
       "1       Janvier        1 2017-01-05  06:38:41     2       420  \n",
       "2       Janvier        1 2017-01-05  06:44:56     1       210  \n",
       "3       Janvier        1 2017-01-05  06:48:51     2       450  \n",
       "4       Janvier        1 2017-01-05  06:54:58     3       730  \n",
       "...         ...      ...        ...       ...   ...       ...  \n",
       "24755  Novembre       47 2019-11-22  09:04:01     1       250  \n",
       "24756  Novembre       47 2019-11-22  09:10:11     2       450  \n",
       "24757  Novembre       47 2019-11-22  07:10:00     4       970  \n",
       "24758  Novembre       47 2019-11-22  08:13:47     1       230  \n",
       "24759  Novembre       47 2019-11-22  08:53:39     1       280  \n",
       "\n",
       "[24759 rows x 11 columns]"
      ],
      "text/html": "<div>\n<style scoped>\n    .dataframe tbody tr th:only-of-type {\n        vertical-align: middle;\n    }\n\n    .dataframe tbody tr th {\n        vertical-align: top;\n    }\n\n    .dataframe thead th {\n        text-align: right;\n    }\n</style>\n<table border=\"1\" class=\"dataframe\">\n  <thead>\n    <tr style=\"text-align: right;\">\n      <th></th>\n      <th>Collecte</th>\n      <th>Contenant</th>\n      <th>Adresse</th>\n      <th>Ville</th>\n      <th>Année</th>\n      <th>MOIS</th>\n      <th>SEMAINE</th>\n      <th>date</th>\n      <th>heure</th>\n      <th>Taux</th>\n      <th>Poids Kg</th>\n    </tr>\n  </thead>\n  <tbody>\n    <tr>\n      <th>0</th>\n      <td>PAV</td>\n      <td>CNT135V</td>\n      <td>CHEMIN DES BREGUIERES</td>\n      <td>LE CANNET</td>\n      <td>2017</td>\n      <td>Janvier</td>\n      <td>1</td>\n      <td>2017-01-05</td>\n      <td>06:32:09</td>\n      <td>2</td>\n      <td>500</td>\n    </tr>\n    <tr>\n      <th>1</th>\n      <td>PAV</td>\n      <td>CNT005V</td>\n      <td>RUE DES MOULIERES</td>\n      <td>LE CANNET</td>\n      <td>2017</td>\n      <td>Janvier</td>\n      <td>1</td>\n      <td>2017-01-05</td>\n      <td>06:38:41</td>\n      <td>2</td>\n      <td>420</td>\n    </tr>\n    <tr>\n      <th>2</th>\n      <td>PAV</td>\n      <td>CNT165V</td>\n      <td>AVENUE DU REPOS</td>\n      <td>LE CANNET</td>\n      <td>2017</td>\n      <td>Janvier</td>\n      <td>1</td>\n      <td>2017-01-05</td>\n      <td>06:44:56</td>\n      <td>1</td>\n      <td>210</td>\n    </tr>\n    <tr>\n      <th>3</th>\n      <td>PAV</td>\n      <td>CNT115V</td>\n      <td>RUE DES ORANGERS</td>\n      <td>LE CANNET</td>\n      <td>2017</td>\n      <td>Janvier</td>\n      <td>1</td>\n      <td>2017-01-05</td>\n      <td>06:48:51</td>\n      <td>2</td>\n      <td>450</td>\n    </tr>\n    <tr>\n      <th>4</th>\n      <td>PAV</td>\n      <td>CNT150V</td>\n      <td>BOULEVARD D'OLIVETUM</td>\n      <td>LE CANNET</td>\n      <td>2017</td>\n      <td>Janvier</td>\n      <td>1</td>\n      <td>2017-01-05</td>\n      <td>06:54:58</td>\n      <td>3</td>\n      <td>730</td>\n    </tr>\n    <tr>\n      <th>...</th>\n      <td>...</td>\n      <td>...</td>\n      <td>...</td>\n      <td>...</td>\n      <td>...</td>\n      <td>...</td>\n      <td>...</td>\n      <td>...</td>\n      <td>...</td>\n      <td>...</td>\n      <td>...</td>\n    </tr>\n    <tr>\n      <th>24755</th>\n      <td>PAV</td>\n      <td>CAN013V</td>\n      <td>ALLEE DE LA LIBERTE</td>\n      <td>CANNES</td>\n      <td>2019</td>\n      <td>Novembre</td>\n      <td>47</td>\n      <td>2019-11-22</td>\n      <td>09:04:01</td>\n      <td>1</td>\n      <td>250</td>\n    </tr>\n    <tr>\n      <th>24756</th>\n      <td>PAV</td>\n      <td>CAN017V</td>\n      <td>AVENUE LAUGIER</td>\n      <td>CANNES</td>\n      <td>2019</td>\n      <td>Novembre</td>\n      <td>47</td>\n      <td>2019-11-22</td>\n      <td>09:10:11</td>\n      <td>2</td>\n      <td>450</td>\n    </tr>\n    <tr>\n      <th>24757</th>\n      <td>PAV</td>\n      <td>CAN152V</td>\n      <td>AVENUE ISOLA BELLA</td>\n      <td>CANNES</td>\n      <td>2019</td>\n      <td>Novembre</td>\n      <td>47</td>\n      <td>2019-11-22</td>\n      <td>07:10:00</td>\n      <td>4</td>\n      <td>970</td>\n    </tr>\n    <tr>\n      <th>24758</th>\n      <td>PAV</td>\n      <td>CAN159V</td>\n      <td>55 AVENUE DU ROI ALBERT 1ER</td>\n      <td>CANNES</td>\n      <td>2019</td>\n      <td>Novembre</td>\n      <td>47</td>\n      <td>2019-11-22</td>\n      <td>08:13:47</td>\n      <td>1</td>\n      <td>230</td>\n    </tr>\n    <tr>\n      <th>24759</th>\n      <td>PAV</td>\n      <td>CAN175V</td>\n      <td>RUE FELIX FAURE</td>\n      <td>CANNES</td>\n      <td>2019</td>\n      <td>Novembre</td>\n      <td>47</td>\n      <td>2019-11-22</td>\n      <td>08:53:39</td>\n      <td>1</td>\n      <td>280</td>\n    </tr>\n  </tbody>\n</table>\n<p>24759 rows × 11 columns</p>\n</div>"
     },
     "metadata": {},
     "execution_count": 18
    }
   ],
   "source": [
    "data171819.drop_duplicates(inplace=True)\n",
    "data171819"
   ]
  },
  {
   "cell_type": "code",
   "execution_count": 19,
   "metadata": {},
   "outputs": [
    {
     "output_type": "execute_result",
     "data": {
      "text/plain": [
       "       Prestation Date de réalisation                 Lieu de Collecte  \\\n",
       "0     12001054939          2020-01-02              CAPL-CNT-VOIE JULIA   \n",
       "1     12001054940          2020-01-02  CAPL-CNT-BREGUIERES/FONT GALLOU   \n",
       "2     12001054941          2020-01-02      CAPL-CNT-AV ECOLES/ROTHMANS   \n",
       "3     12001054942          2020-01-02                CAPL-CAN-MERLETTE   \n",
       "4     12001054943          2020-01-02                CAPL-CAN-RIOU/HLM   \n",
       "...           ...                 ...                              ...   \n",
       "5471  12009697556          2020-09-30   CAPL-CAN-GOURGUETTES/RONDPOINT   \n",
       "5472  12009697557          2020-09-30   CAPL-CAN-GOURGUETTES/ARRET BUS   \n",
       "5473  12009697554          2020-09-30          CAPL-CAN-BALZAC/LECLERC   \n",
       "5474  12009697559          2020-09-30     CAPL-CAN-JOURDAN/ENTREE ANAS   \n",
       "5475  12009697558          2020-09-30        CAPL-CAN-JOURDAN/RANCHITO   \n",
       "\n",
       "                     Matériel   Poids  \n",
       "0              COLONNE K 3 m3  0.4360  \n",
       "1              COLONNE K 3 m3  0.4360  \n",
       "2              COLONNE K 3 m3  0.4360  \n",
       "3            COLONNE K 2,5 m3  0.5450  \n",
       "4              COLONNE K 4 m3  0.5814  \n",
       "...                       ...     ...  \n",
       "5471           COLONNE K 3 m3  0.1800  \n",
       "5472  COLONNE ENTERREE K 4 m3  0.2400  \n",
       "5473           COLONNE K 3 m3  0.3600  \n",
       "5474           COLONNE K 3 m3  0.1800  \n",
       "5475           COLONNE K 3 m3  0.1800  \n",
       "\n",
       "[5476 rows x 5 columns]"
      ],
      "text/html": "<div>\n<style scoped>\n    .dataframe tbody tr th:only-of-type {\n        vertical-align: middle;\n    }\n\n    .dataframe tbody tr th {\n        vertical-align: top;\n    }\n\n    .dataframe thead th {\n        text-align: right;\n    }\n</style>\n<table border=\"1\" class=\"dataframe\">\n  <thead>\n    <tr style=\"text-align: right;\">\n      <th></th>\n      <th>Prestation</th>\n      <th>Date de réalisation</th>\n      <th>Lieu de Collecte</th>\n      <th>Matériel</th>\n      <th>Poids</th>\n    </tr>\n  </thead>\n  <tbody>\n    <tr>\n      <th>0</th>\n      <td>12001054939</td>\n      <td>2020-01-02</td>\n      <td>CAPL-CNT-VOIE JULIA</td>\n      <td>COLONNE K 3 m3</td>\n      <td>0.4360</td>\n    </tr>\n    <tr>\n      <th>1</th>\n      <td>12001054940</td>\n      <td>2020-01-02</td>\n      <td>CAPL-CNT-BREGUIERES/FONT GALLOU</td>\n      <td>COLONNE K 3 m3</td>\n      <td>0.4360</td>\n    </tr>\n    <tr>\n      <th>2</th>\n      <td>12001054941</td>\n      <td>2020-01-02</td>\n      <td>CAPL-CNT-AV ECOLES/ROTHMANS</td>\n      <td>COLONNE K 3 m3</td>\n      <td>0.4360</td>\n    </tr>\n    <tr>\n      <th>3</th>\n      <td>12001054942</td>\n      <td>2020-01-02</td>\n      <td>CAPL-CAN-MERLETTE</td>\n      <td>COLONNE K 2,5 m3</td>\n      <td>0.5450</td>\n    </tr>\n    <tr>\n      <th>4</th>\n      <td>12001054943</td>\n      <td>2020-01-02</td>\n      <td>CAPL-CAN-RIOU/HLM</td>\n      <td>COLONNE K 4 m3</td>\n      <td>0.5814</td>\n    </tr>\n    <tr>\n      <th>...</th>\n      <td>...</td>\n      <td>...</td>\n      <td>...</td>\n      <td>...</td>\n      <td>...</td>\n    </tr>\n    <tr>\n      <th>5471</th>\n      <td>12009697556</td>\n      <td>2020-09-30</td>\n      <td>CAPL-CAN-GOURGUETTES/RONDPOINT</td>\n      <td>COLONNE K 3 m3</td>\n      <td>0.1800</td>\n    </tr>\n    <tr>\n      <th>5472</th>\n      <td>12009697557</td>\n      <td>2020-09-30</td>\n      <td>CAPL-CAN-GOURGUETTES/ARRET BUS</td>\n      <td>COLONNE ENTERREE K 4 m3</td>\n      <td>0.2400</td>\n    </tr>\n    <tr>\n      <th>5473</th>\n      <td>12009697554</td>\n      <td>2020-09-30</td>\n      <td>CAPL-CAN-BALZAC/LECLERC</td>\n      <td>COLONNE K 3 m3</td>\n      <td>0.3600</td>\n    </tr>\n    <tr>\n      <th>5474</th>\n      <td>12009697559</td>\n      <td>2020-09-30</td>\n      <td>CAPL-CAN-JOURDAN/ENTREE ANAS</td>\n      <td>COLONNE K 3 m3</td>\n      <td>0.1800</td>\n    </tr>\n    <tr>\n      <th>5475</th>\n      <td>12009697558</td>\n      <td>2020-09-30</td>\n      <td>CAPL-CAN-JOURDAN/RANCHITO</td>\n      <td>COLONNE K 3 m3</td>\n      <td>0.1800</td>\n    </tr>\n  </tbody>\n</table>\n<p>5476 rows × 5 columns</p>\n</div>"
     },
     "metadata": {},
     "execution_count": 19
    }
   ],
   "source": [
    "data20"
   ]
  },
  {
   "cell_type": "code",
   "execution_count": 20,
   "metadata": {},
   "outputs": [
    {
     "output_type": "execute_result",
     "data": {
      "text/plain": [
       "       Prestation Date de réalisation                 Lieu de Collecte  \\\n",
       "0     12001054939          2020-01-02              CAPL-CNT-VOIE JULIA   \n",
       "1     12001054940          2020-01-02  CAPL-CNT-BREGUIERES/FONT GALLOU   \n",
       "2     12001054941          2020-01-02      CAPL-CNT-AV ECOLES/ROTHMANS   \n",
       "3     12001054942          2020-01-02                CAPL-CAN-MERLETTE   \n",
       "4     12001054943          2020-01-02                CAPL-CAN-RIOU/HLM   \n",
       "...           ...                 ...                              ...   \n",
       "5471  12009697556          2020-09-30   CAPL-CAN-GOURGUETTES/RONDPOINT   \n",
       "5472  12009697557          2020-09-30   CAPL-CAN-GOURGUETTES/ARRET BUS   \n",
       "5473  12009697554          2020-09-30          CAPL-CAN-BALZAC/LECLERC   \n",
       "5474  12009697559          2020-09-30     CAPL-CAN-JOURDAN/ENTREE ANAS   \n",
       "5475  12009697558          2020-09-30        CAPL-CAN-JOURDAN/RANCHITO   \n",
       "\n",
       "                     Matériel   Poids  \n",
       "0              COLONNE K 3 m3  0.4360  \n",
       "1              COLONNE K 3 m3  0.4360  \n",
       "2              COLONNE K 3 m3  0.4360  \n",
       "3            COLONNE K 2,5 m3  0.5450  \n",
       "4              COLONNE K 4 m3  0.5814  \n",
       "...                       ...     ...  \n",
       "5471           COLONNE K 3 m3  0.1800  \n",
       "5472  COLONNE ENTERREE K 4 m3  0.2400  \n",
       "5473           COLONNE K 3 m3  0.3600  \n",
       "5474           COLONNE K 3 m3  0.1800  \n",
       "5475           COLONNE K 3 m3  0.1800  \n",
       "\n",
       "[5386 rows x 5 columns]"
      ],
      "text/html": "<div>\n<style scoped>\n    .dataframe tbody tr th:only-of-type {\n        vertical-align: middle;\n    }\n\n    .dataframe tbody tr th {\n        vertical-align: top;\n    }\n\n    .dataframe thead th {\n        text-align: right;\n    }\n</style>\n<table border=\"1\" class=\"dataframe\">\n  <thead>\n    <tr style=\"text-align: right;\">\n      <th></th>\n      <th>Prestation</th>\n      <th>Date de réalisation</th>\n      <th>Lieu de Collecte</th>\n      <th>Matériel</th>\n      <th>Poids</th>\n    </tr>\n  </thead>\n  <tbody>\n    <tr>\n      <th>0</th>\n      <td>12001054939</td>\n      <td>2020-01-02</td>\n      <td>CAPL-CNT-VOIE JULIA</td>\n      <td>COLONNE K 3 m3</td>\n      <td>0.4360</td>\n    </tr>\n    <tr>\n      <th>1</th>\n      <td>12001054940</td>\n      <td>2020-01-02</td>\n      <td>CAPL-CNT-BREGUIERES/FONT GALLOU</td>\n      <td>COLONNE K 3 m3</td>\n      <td>0.4360</td>\n    </tr>\n    <tr>\n      <th>2</th>\n      <td>12001054941</td>\n      <td>2020-01-02</td>\n      <td>CAPL-CNT-AV ECOLES/ROTHMANS</td>\n      <td>COLONNE K 3 m3</td>\n      <td>0.4360</td>\n    </tr>\n    <tr>\n      <th>3</th>\n      <td>12001054942</td>\n      <td>2020-01-02</td>\n      <td>CAPL-CAN-MERLETTE</td>\n      <td>COLONNE K 2,5 m3</td>\n      <td>0.5450</td>\n    </tr>\n    <tr>\n      <th>4</th>\n      <td>12001054943</td>\n      <td>2020-01-02</td>\n      <td>CAPL-CAN-RIOU/HLM</td>\n      <td>COLONNE K 4 m3</td>\n      <td>0.5814</td>\n    </tr>\n    <tr>\n      <th>...</th>\n      <td>...</td>\n      <td>...</td>\n      <td>...</td>\n      <td>...</td>\n      <td>...</td>\n    </tr>\n    <tr>\n      <th>5471</th>\n      <td>12009697556</td>\n      <td>2020-09-30</td>\n      <td>CAPL-CAN-GOURGUETTES/RONDPOINT</td>\n      <td>COLONNE K 3 m3</td>\n      <td>0.1800</td>\n    </tr>\n    <tr>\n      <th>5472</th>\n      <td>12009697557</td>\n      <td>2020-09-30</td>\n      <td>CAPL-CAN-GOURGUETTES/ARRET BUS</td>\n      <td>COLONNE ENTERREE K 4 m3</td>\n      <td>0.2400</td>\n    </tr>\n    <tr>\n      <th>5473</th>\n      <td>12009697554</td>\n      <td>2020-09-30</td>\n      <td>CAPL-CAN-BALZAC/LECLERC</td>\n      <td>COLONNE K 3 m3</td>\n      <td>0.3600</td>\n    </tr>\n    <tr>\n      <th>5474</th>\n      <td>12009697559</td>\n      <td>2020-09-30</td>\n      <td>CAPL-CAN-JOURDAN/ENTREE ANAS</td>\n      <td>COLONNE K 3 m3</td>\n      <td>0.1800</td>\n    </tr>\n    <tr>\n      <th>5475</th>\n      <td>12009697558</td>\n      <td>2020-09-30</td>\n      <td>CAPL-CAN-JOURDAN/RANCHITO</td>\n      <td>COLONNE K 3 m3</td>\n      <td>0.1800</td>\n    </tr>\n  </tbody>\n</table>\n<p>5386 rows × 5 columns</p>\n</div>"
     },
     "metadata": {},
     "execution_count": 20
    }
   ],
   "source": [
    "data20.drop_duplicates(subset=data20.columns[1:], inplace=True)\n",
    "data20"
   ]
  },
  {
   "source": [
    "## Notes générales"
   ],
   "cell_type": "markdown",
   "metadata": {}
  },
  {
   "source": [
    "Il n'y a que des PAV comme type de collecteurs de 2017 à 2019"
   ],
   "cell_type": "markdown",
   "metadata": {}
  },
  {
   "cell_type": "code",
   "execution_count": 21,
   "metadata": {},
   "outputs": [
    {
     "output_type": "execute_result",
     "data": {
      "text/plain": [
       "PAV    24759\n",
       "Name: Collecte, dtype: int64"
      ]
     },
     "metadata": {},
     "execution_count": 21
    }
   ],
   "source": [
    "data171819[\"Collecte\"].value_counts()"
   ]
  },
  {
   "source": [
    "La collecte semble équivalente au fil des années même si une baisse est à noter\n",
    "\n",
    "Ces impressions restent à confirmer sachant que les collectes de décembre 2019 sont manquantes et celles d'octobre à décembre 2020 à venir"
   ],
   "cell_type": "markdown",
   "metadata": {}
  },
  {
   "cell_type": "code",
   "execution_count": 22,
   "metadata": {},
   "outputs": [
    {
     "output_type": "execute_result",
     "data": {
      "text/plain": [
       "2018    8935\n",
       "2017    8902\n",
       "2019    6922\n",
       "Name: Année, dtype: int64"
      ]
     },
     "metadata": {},
     "execution_count": 22
    }
   ],
   "source": [
    "data171819[\"Année\"].value_counts()"
   ]
  },
  {
   "cell_type": "code",
   "execution_count": 23,
   "metadata": {},
   "outputs": [
    {
     "output_type": "execute_result",
     "data": {
      "text/plain": [
       "2020    5386\n",
       "Name: Date de réalisation, dtype: int64"
      ]
     },
     "metadata": {},
     "execution_count": 23
    }
   ],
   "source": [
    "data20[\"Date de réalisation\"].dt.year.value_counts()"
   ]
  },
  {
   "source": [
    "Sur l'ensemble de la période 2017-2019, les collectes sont plus fréquentes en été (surtout Juillet et Août) et bien moins en Novembre et Février\n",
    "\n",
    "La mois de décembre est difficilement interprétable (du fait de l'absence de décembre 2019) et ne permet pas d'étendre l'interprétation sur l'apprente baisse des collectes pour l'hiver "
   ],
   "cell_type": "markdown",
   "metadata": {}
  },
  {
   "cell_type": "code",
   "execution_count": 24,
   "metadata": {},
   "outputs": [
    {
     "output_type": "execute_result",
     "data": {
      "text/plain": [
       "Mai          2427\n",
       "Août         2342\n",
       "Juillet      2308\n",
       "Janvier      2230\n",
       "Octobre      2200\n",
       "Septembre    2069\n",
       "Juin         2063\n",
       "Mars         2050\n",
       "Avril        2001\n",
       "Février      1900\n",
       "Novembre     1758\n",
       "Décembre     1411\n",
       "Name: MOIS, dtype: int64"
      ]
     },
     "metadata": {},
     "execution_count": 24
    }
   ],
   "source": [
    "data171819[\"MOIS\"].value_counts()"
   ]
  },
  {
   "source": [
    "Sous réserve des mois à venir, les observations sont similaires à l'exception du mois de Mai (justifié probablement par la situation vis-à-vis du COVID)"
   ],
   "cell_type": "markdown",
   "metadata": {}
  },
  {
   "cell_type": "code",
   "execution_count": 25,
   "metadata": {},
   "outputs": [
    {
     "output_type": "execute_result",
     "data": {
      "text/plain": [
       "7    702\n",
       "8    675\n",
       "9    673\n",
       "1    613\n",
       "3    569\n",
       "6    562\n",
       "2    552\n",
       "5    520\n",
       "4    520\n",
       "Name: Date de réalisation, dtype: int64"
      ]
     },
     "metadata": {},
     "execution_count": 25
    }
   ],
   "source": [
    "data20[\"Date de réalisation\"].dt.month.value_counts()"
   ]
  },
  {
   "source": [
    "De nombreuses collectes n'ont certainement pas l'heure précisée (vu le nombre d'occurences pour l'heure par défaut 00:00:00)"
   ],
   "cell_type": "markdown",
   "metadata": {}
  },
  {
   "cell_type": "code",
   "execution_count": 26,
   "metadata": {},
   "outputs": [
    {
     "output_type": "execute_result",
     "data": {
      "text/plain": [
       "00:00:00    1487\n",
       "10:41:00      24\n",
       "07:12:00      22\n",
       "07:29:00      21\n",
       "07:10:00      21\n",
       "            ... \n",
       "12:26:16       1\n",
       "10:10:42       1\n",
       "08:22:32       1\n",
       "10:17:01       1\n",
       "09:24:04       1\n",
       "Name: heure, Length: 13519, dtype: int64"
      ]
     },
     "metadata": {},
     "execution_count": 26
    }
   ],
   "source": [
    "data171819[\"heure\"].value_counts()"
   ]
  },
  {
   "source": [
    "Le nombre de collectes est bien plus important à Cannes que dans les autres villes de l'agglomération et bien moins à Théoule-sur-Mer"
   ],
   "cell_type": "markdown",
   "metadata": {}
  },
  {
   "cell_type": "code",
   "execution_count": 27,
   "metadata": {},
   "outputs": [
    {
     "output_type": "execute_result",
     "data": {
      "text/plain": [
       "CANNES                  14451\n",
       "MANDELIEU-LA-NAPOULE     4027\n",
       "LE CANNET                3539\n",
       "MOUGINS                  2122\n",
       "THÉOULE-SUR-MER           620\n",
       "Name: Ville, dtype: int64"
      ]
     },
     "metadata": {},
     "execution_count": 27
    }
   ],
   "source": [
    "data171819[\"Ville\"].value_counts()"
   ]
  },
  {
   "source": [
    "Cannes détient beaucoup plus de collecteurs de verre (et effectue bien plus de collectes) que les autres villes de l'agglomération sur toute la péridoe 2017-2020"
   ],
   "cell_type": "markdown",
   "metadata": {}
  },
  {
   "cell_type": "code",
   "execution_count": 28,
   "metadata": {},
   "outputs": [
    {
     "output_type": "execute_result",
     "data": {
      "text/plain": [
       "CAN013V     516\n",
       "CAN026V     503\n",
       "CAN027V     400\n",
       "CAN089V     385\n",
       "CAN137V     362\n",
       "           ... \n",
       "CAN102V       1\n",
       "CAN173V       1\n",
       "CAN157 V      1\n",
       "CNT310V       1\n",
       "CNT335V       1\n",
       "Name: Contenant, Length: 287, dtype: int64"
      ]
     },
     "metadata": {},
     "execution_count": 28
    }
   ],
   "source": [
    "data171819[\"Contenant\"].value_counts()"
   ]
  },
  {
   "cell_type": "code",
   "execution_count": 29,
   "metadata": {},
   "outputs": [],
   "source": [
    "dictVilles = { \"CAN\": \"Cannes\", \"CNT\": \"Le Cannet\", \"MAN\": \"Mandelieu-la-Napoule\", \"MOU\": \"Mougins\"}"
   ]
  },
  {
   "cell_type": "code",
   "execution_count": 30,
   "metadata": {},
   "outputs": [
    {
     "output_type": "stream",
     "name": "stdout",
     "text": [
      "Cannes présente 14451 collectes avec 159 collecteurs différents\nLe Cannet présente 3539 collectes avec 50 collecteurs différents\nMandelieu-la-Napoule présente 4027 collectes avec 50 collecteurs différents\nMougins présente 2122 collectes avec 20 collecteurs différents\n"
     ]
    }
   ],
   "source": [
    "nbContenantsVille = [0] * len(dictVilles)\n",
    "nbContenantsDifferentsVille = [0] * len(dictVilles)\n",
    "\n",
    "for contenant, value in data171819[\"Contenant\"].value_counts().items():\n",
    "    for j, abbr in enumerate(dictVilles.keys()):\n",
    "        if abbr in contenant:\n",
    "            nbContenantsVille[j] += value\n",
    "            nbContenantsDifferentsVille[j] += 1\n",
    "\n",
    "for i, abbr in enumerate(dictVilles.keys()):\n",
    "    print(dictVilles[abbr] + \" présente \" + str(nbContenantsVille[i]) + \" collectes avec \" + str(nbContenantsDifferentsVille[i]) + \" collecteurs différents\")\n",
    "\n",
    "# Pour obtenir seulement le nombre de collectes par ville\n",
    "#data171819[\"Ville\"].value_counts()"
   ]
  },
  {
   "cell_type": "code",
   "execution_count": 31,
   "metadata": {},
   "outputs": [
    {
     "output_type": "stream",
     "name": "stdout",
     "text": [
      "Cannes présente 2947 collectes avec 155 collecteurs différents\nLe Cannet présente 885 collectes avec 45 collecteurs différents\nMandelieu-la-Napoule présente 875 collectes avec 46 collecteurs différents\nMougins présente 533 collectes avec 19 collecteurs différents\n"
     ]
    }
   ],
   "source": [
    "nbContenantsVille = [0] * len(dictVilles)\n",
    "nbContenantsDifferentsVille = [0] * len(dictVilles)\n",
    "\n",
    "for contenant, value in data20[\"Lieu de Collecte\"].value_counts().items():\n",
    "    for j, abbr in enumerate(dictVilles.keys()):\n",
    "        prefixe = \"CAPL-\" + abbr # Pour éviter le cas où l'abbréviation de la ville (de 3 lettres) est dans l'adresse\n",
    "        if prefixe in contenant:\n",
    "            nbContenantsVille[j] += value\n",
    "            nbContenantsDifferentsVille[j] += 1\n",
    "\n",
    "for i, abbr in enumerate(dictVilles.keys()):\n",
    "    print(dictVilles[abbr] + \" présente \" + str(nbContenantsVille[i]) + \" collectes avec \" + str(nbContenantsDifferentsVille[i]) + \" collecteurs différents\")"
   ]
  },
  {
   "source": [
    "# Base de données cliiink\n",
    "![cliiink.png](../bdd/)"
   ],
   "cell_type": "markdown",
   "metadata": {}
  },
  {
   "source": [
    "# Nettoyage des jeux de données"
   ],
   "cell_type": "markdown",
   "metadata": {}
  },
  {
   "source": [
    "## Détection d'éventuelles anomalies"
   ],
   "cell_type": "markdown",
   "metadata": {}
  },
  {
   "cell_type": "code",
   "execution_count": 32,
   "metadata": {},
   "outputs": [
    {
     "output_type": "stream",
     "name": "stdout",
     "text": [
      "Collecte\nContenant\nAdresse\nVille\nAnnée\nMOIS\nSEMAINE\ndate \nheure\nTaux\nPoids Kg\n"
     ]
    }
   ],
   "source": [
    "# Pour voir les vrais noms des colonnes (avec les espaces)\n",
    "for col in data171819.columns: \n",
    "    print(col) "
   ]
  },
  {
   "source": [
    "Vérification pour data171819 que Année et MOIS correspondent bien à date"
   ],
   "cell_type": "markdown",
   "metadata": {}
  },
  {
   "cell_type": "code",
   "execution_count": 33,
   "metadata": {
    "tags": []
   },
   "outputs": [
    {
     "output_type": "execute_result",
     "data": {
      "text/plain": [
       "Empty DataFrame\n",
       "Columns: [Collecte, Contenant, Adresse, Ville, Année, MOIS, SEMAINE, date , heure, Taux, Poids Kg]\n",
       "Index: []"
      ],
      "text/html": "<div>\n<style scoped>\n    .dataframe tbody tr th:only-of-type {\n        vertical-align: middle;\n    }\n\n    .dataframe tbody tr th {\n        vertical-align: top;\n    }\n\n    .dataframe thead th {\n        text-align: right;\n    }\n</style>\n<table border=\"1\" class=\"dataframe\">\n  <thead>\n    <tr style=\"text-align: right;\">\n      <th></th>\n      <th>Collecte</th>\n      <th>Contenant</th>\n      <th>Adresse</th>\n      <th>Ville</th>\n      <th>Année</th>\n      <th>MOIS</th>\n      <th>SEMAINE</th>\n      <th>date</th>\n      <th>heure</th>\n      <th>Taux</th>\n      <th>Poids Kg</th>\n    </tr>\n  </thead>\n  <tbody>\n  </tbody>\n</table>\n</div>"
     },
     "metadata": {},
     "execution_count": 33
    }
   ],
   "source": [
    "#data171819[(data171819[\"date \"].dt.year == data171819[\"Année\"]) & (data171819[\"date \"].dt.month == data171819[\"MOIS\"])]\n",
    "data171819[data171819[\"date \"].dt.year != data171819[\"Année\"]]"
   ]
  },
  {
   "cell_type": "code",
   "execution_count": 34,
   "metadata": {
    "tags": []
   },
   "outputs": [
    {
     "output_type": "stream",
     "name": "stdout",
     "text": [
      "---\n",
      "19884\n",
      "4\n",
      "5\n",
      "---\n",
      "19885\n",
      "4\n",
      "5\n",
      "---\n",
      "19891\n",
      "4\n",
      "5\n",
      "---\n",
      "19892\n",
      "4\n",
      "5\n",
      "---\n",
      "19972\n",
      "4\n",
      "5\n",
      "---\n",
      "19974\n",
      "4\n",
      "5\n",
      "---\n",
      "19975\n",
      "4\n",
      "5\n",
      "---\n",
      "19977\n",
      "4\n",
      "5\n",
      "---\n",
      "19981\n",
      "4\n",
      "5\n",
      "---\n",
      "19989\n",
      "4\n",
      "5\n",
      "---\n",
      "20034\n",
      "4\n",
      "5\n",
      "---\n",
      "20035\n",
      "4\n",
      "5\n",
      "---\n",
      "20038\n",
      "4\n",
      "5\n",
      "---\n",
      "20039\n",
      "4\n",
      "5\n",
      "---\n",
      "20040\n",
      "4\n",
      "5\n",
      "---\n",
      "20079\n",
      "4\n",
      "5\n",
      "---\n",
      "20081\n",
      "4\n",
      "5\n",
      "---\n",
      "20084\n",
      "4\n",
      "5\n",
      "---\n",
      "20085\n",
      "4\n",
      "5\n",
      "---\n",
      "20086\n",
      "4\n",
      "5\n",
      "---\n",
      "20087\n",
      "4\n",
      "5\n",
      "---\n",
      "20141\n",
      "4\n",
      "5\n",
      "---\n",
      "20142\n",
      "4\n",
      "5\n",
      "---\n",
      "20143\n",
      "4\n",
      "5\n",
      "---\n",
      "20146\n",
      "4\n",
      "5\n",
      "---\n",
      "20153\n",
      "4\n",
      "5\n",
      "---\n",
      "20154\n",
      "4\n",
      "5\n",
      "---\n",
      "20416\n",
      "4\n",
      "5\n",
      "---\n",
      "21145\n",
      "5\n",
      "6\n",
      "---\n",
      "21720\n",
      "6\n",
      "7\n",
      "---\n",
      "22448\n",
      "7\n",
      "8\n",
      "---\n",
      "23148\n",
      "8\n",
      "9\n",
      "---\n",
      "23779\n",
      "9\n",
      "10\n",
      "---\n",
      "24436\n",
      "10\n",
      "11\n"
     ]
    },
    {
     "output_type": "error",
     "ename": "IndexError",
     "evalue": "single positional indexer is out-of-bounds",
     "traceback": [
      "\u001b[1;31m---------------------------------------------------------------------------\u001b[0m",
      "\u001b[1;31mIndexError\u001b[0m                                Traceback (most recent call last)",
      "\u001b[1;32m<ipython-input-34-540b412d42d7>\u001b[0m in \u001b[0;36m<module>\u001b[1;34m\u001b[0m\n\u001b[0;32m      3\u001b[0m \u001b[1;33m\u001b[0m\u001b[0m\n\u001b[0;32m      4\u001b[0m \u001b[1;32mfor\u001b[0m \u001b[0mi\u001b[0m \u001b[1;32min\u001b[0m \u001b[0mdata171819\u001b[0m\u001b[1;33m.\u001b[0m\u001b[0mindex\u001b[0m\u001b[1;33m:\u001b[0m\u001b[1;33m\u001b[0m\u001b[1;33m\u001b[0m\u001b[0m\n\u001b[1;32m----> 5\u001b[1;33m     \u001b[1;32mif\u001b[0m \u001b[1;33m(\u001b[0m\u001b[0mmoisFrancais\u001b[0m\u001b[1;33m.\u001b[0m\u001b[0mindex\u001b[0m\u001b[1;33m(\u001b[0m\u001b[0mdata171819\u001b[0m\u001b[1;33m.\u001b[0m\u001b[0mloc\u001b[0m\u001b[1;33m[\u001b[0m\u001b[0mi\u001b[0m\u001b[1;33m,\u001b[0m \u001b[1;34m\"MOIS\"\u001b[0m\u001b[1;33m]\u001b[0m\u001b[1;33m)\u001b[0m\u001b[1;33m+\u001b[0m\u001b[1;36m1\u001b[0m \u001b[1;33m!=\u001b[0m \u001b[0mdata171819\u001b[0m\u001b[1;33m[\u001b[0m\u001b[1;34m\"date \"\u001b[0m\u001b[1;33m]\u001b[0m\u001b[1;33m.\u001b[0m\u001b[0mdt\u001b[0m\u001b[1;33m.\u001b[0m\u001b[0mmonth\u001b[0m\u001b[1;33m.\u001b[0m\u001b[0miloc\u001b[0m\u001b[1;33m[\u001b[0m\u001b[0mi\u001b[0m\u001b[1;33m]\u001b[0m\u001b[1;33m)\u001b[0m\u001b[1;33m:\u001b[0m\u001b[1;33m\u001b[0m\u001b[1;33m\u001b[0m\u001b[0m\n\u001b[0m\u001b[0;32m      6\u001b[0m         \u001b[0mprint\u001b[0m\u001b[1;33m(\u001b[0m\u001b[1;34m\"---\"\u001b[0m\u001b[1;33m)\u001b[0m\u001b[1;33m\u001b[0m\u001b[1;33m\u001b[0m\u001b[0m\n\u001b[0;32m      7\u001b[0m         \u001b[0mprint\u001b[0m\u001b[1;33m(\u001b[0m\u001b[0mi\u001b[0m\u001b[1;33m)\u001b[0m\u001b[1;33m\u001b[0m\u001b[1;33m\u001b[0m\u001b[0m\n",
      "\u001b[1;32mC:\\Program Files\\anaconda3\\lib\\site-packages\\pandas\\core\\indexing.py\u001b[0m in \u001b[0;36m__getitem__\u001b[1;34m(self, key)\u001b[0m\n\u001b[0;32m   1766\u001b[0m \u001b[1;33m\u001b[0m\u001b[0m\n\u001b[0;32m   1767\u001b[0m             \u001b[0mmaybe_callable\u001b[0m \u001b[1;33m=\u001b[0m \u001b[0mcom\u001b[0m\u001b[1;33m.\u001b[0m\u001b[0mapply_if_callable\u001b[0m\u001b[1;33m(\u001b[0m\u001b[0mkey\u001b[0m\u001b[1;33m,\u001b[0m \u001b[0mself\u001b[0m\u001b[1;33m.\u001b[0m\u001b[0mobj\u001b[0m\u001b[1;33m)\u001b[0m\u001b[1;33m\u001b[0m\u001b[1;33m\u001b[0m\u001b[0m\n\u001b[1;32m-> 1768\u001b[1;33m             \u001b[1;32mreturn\u001b[0m \u001b[0mself\u001b[0m\u001b[1;33m.\u001b[0m\u001b[0m_getitem_axis\u001b[0m\u001b[1;33m(\u001b[0m\u001b[0mmaybe_callable\u001b[0m\u001b[1;33m,\u001b[0m \u001b[0maxis\u001b[0m\u001b[1;33m=\u001b[0m\u001b[0maxis\u001b[0m\u001b[1;33m)\u001b[0m\u001b[1;33m\u001b[0m\u001b[1;33m\u001b[0m\u001b[0m\n\u001b[0m\u001b[0;32m   1769\u001b[0m \u001b[1;33m\u001b[0m\u001b[0m\n\u001b[0;32m   1770\u001b[0m     \u001b[1;32mdef\u001b[0m \u001b[0m_is_scalar_access\u001b[0m\u001b[1;33m(\u001b[0m\u001b[0mself\u001b[0m\u001b[1;33m,\u001b[0m \u001b[0mkey\u001b[0m\u001b[1;33m:\u001b[0m \u001b[0mTuple\u001b[0m\u001b[1;33m)\u001b[0m\u001b[1;33m:\u001b[0m\u001b[1;33m\u001b[0m\u001b[1;33m\u001b[0m\u001b[0m\n",
      "\u001b[1;32mC:\\Program Files\\anaconda3\\lib\\site-packages\\pandas\\core\\indexing.py\u001b[0m in \u001b[0;36m_getitem_axis\u001b[1;34m(self, key, axis)\u001b[0m\n\u001b[0;32m   2136\u001b[0m \u001b[1;33m\u001b[0m\u001b[0m\n\u001b[0;32m   2137\u001b[0m             \u001b[1;31m# validate the location\u001b[0m\u001b[1;33m\u001b[0m\u001b[1;33m\u001b[0m\u001b[1;33m\u001b[0m\u001b[0m\n\u001b[1;32m-> 2138\u001b[1;33m             \u001b[0mself\u001b[0m\u001b[1;33m.\u001b[0m\u001b[0m_validate_integer\u001b[0m\u001b[1;33m(\u001b[0m\u001b[0mkey\u001b[0m\u001b[1;33m,\u001b[0m \u001b[0maxis\u001b[0m\u001b[1;33m)\u001b[0m\u001b[1;33m\u001b[0m\u001b[1;33m\u001b[0m\u001b[0m\n\u001b[0m\u001b[0;32m   2139\u001b[0m \u001b[1;33m\u001b[0m\u001b[0m\n\u001b[0;32m   2140\u001b[0m             \u001b[1;32mreturn\u001b[0m \u001b[0mself\u001b[0m\u001b[1;33m.\u001b[0m\u001b[0m_get_loc\u001b[0m\u001b[1;33m(\u001b[0m\u001b[0mkey\u001b[0m\u001b[1;33m,\u001b[0m \u001b[0maxis\u001b[0m\u001b[1;33m=\u001b[0m\u001b[0maxis\u001b[0m\u001b[1;33m)\u001b[0m\u001b[1;33m\u001b[0m\u001b[1;33m\u001b[0m\u001b[0m\n",
      "\u001b[1;32mC:\\Program Files\\anaconda3\\lib\\site-packages\\pandas\\core\\indexing.py\u001b[0m in \u001b[0;36m_validate_integer\u001b[1;34m(self, key, axis)\u001b[0m\n\u001b[0;32m   2061\u001b[0m         \u001b[0mlen_axis\u001b[0m \u001b[1;33m=\u001b[0m \u001b[0mlen\u001b[0m\u001b[1;33m(\u001b[0m\u001b[0mself\u001b[0m\u001b[1;33m.\u001b[0m\u001b[0mobj\u001b[0m\u001b[1;33m.\u001b[0m\u001b[0m_get_axis\u001b[0m\u001b[1;33m(\u001b[0m\u001b[0maxis\u001b[0m\u001b[1;33m)\u001b[0m\u001b[1;33m)\u001b[0m\u001b[1;33m\u001b[0m\u001b[1;33m\u001b[0m\u001b[0m\n\u001b[0;32m   2062\u001b[0m         \u001b[1;32mif\u001b[0m \u001b[0mkey\u001b[0m \u001b[1;33m>=\u001b[0m \u001b[0mlen_axis\u001b[0m \u001b[1;32mor\u001b[0m \u001b[0mkey\u001b[0m \u001b[1;33m<\u001b[0m \u001b[1;33m-\u001b[0m\u001b[0mlen_axis\u001b[0m\u001b[1;33m:\u001b[0m\u001b[1;33m\u001b[0m\u001b[1;33m\u001b[0m\u001b[0m\n\u001b[1;32m-> 2063\u001b[1;33m             \u001b[1;32mraise\u001b[0m \u001b[0mIndexError\u001b[0m\u001b[1;33m(\u001b[0m\u001b[1;34m\"single positional indexer is out-of-bounds\"\u001b[0m\u001b[1;33m)\u001b[0m\u001b[1;33m\u001b[0m\u001b[1;33m\u001b[0m\u001b[0m\n\u001b[0m\u001b[0;32m   2064\u001b[0m \u001b[1;33m\u001b[0m\u001b[0m\n\u001b[0;32m   2065\u001b[0m     \u001b[1;32mdef\u001b[0m \u001b[0m_getitem_tuple\u001b[0m\u001b[1;33m(\u001b[0m\u001b[0mself\u001b[0m\u001b[1;33m,\u001b[0m \u001b[0mtup\u001b[0m\u001b[1;33m:\u001b[0m \u001b[0mTuple\u001b[0m\u001b[1;33m)\u001b[0m\u001b[1;33m:\u001b[0m\u001b[1;33m\u001b[0m\u001b[1;33m\u001b[0m\u001b[0m\n",
      "\u001b[1;31mIndexError\u001b[0m: single positional indexer is out-of-bounds"
     ]
    }
   ],
   "source": [
    "#data171819[data171819[\"date \"].dt.year == data171819[\"Année\"]]\n",
    "moisFrancais = [\"Janvier\", \"Février\", \"Mars\", \"Avril\", \"Mai\", \"Juin\", \"Juillet\", \"Août\", \"Septembre\", \"Octobre\", \"Novembre\", \"Décembre\"]\n",
    "\n",
    "for i in data171819.index:\n",
    "    if (moisFrancais.index(data171819.loc[i, \"MOIS\"])+1 != data171819[\"date \"].dt.month.iloc[i]):\n",
    "        print(\"---\")\n",
    "        print(i)\n",
    "        print(moisFrancais.index(data171819.loc[i, \"MOIS\"])+1)\n",
    "        print(data171819[\"date \"].dt.month.iloc[i])\n"
   ]
  },
  {
   "cell_type": "code",
   "execution_count": 90,
   "metadata": {},
   "outputs": [
    {
     "output_type": "execute_result",
     "data": {
      "text/plain": [
       "      Collecte Contenant                Adresse   Ville  Année   MOIS  \\\n",
       "19884      PAV   CAN034V  AVENUE FRANCIS TONNER  CANNES   2019  Avril   \n",
       "\n",
       "       SEMAINE      date      heure  Taux  Poids Kg  \n",
       "19884       18 2019-05-02  07:55:24     2       520  "
      ],
      "text/html": "<div>\n<style scoped>\n    .dataframe tbody tr th:only-of-type {\n        vertical-align: middle;\n    }\n\n    .dataframe tbody tr th {\n        vertical-align: top;\n    }\n\n    .dataframe thead th {\n        text-align: right;\n    }\n</style>\n<table border=\"1\" class=\"dataframe\">\n  <thead>\n    <tr style=\"text-align: right;\">\n      <th></th>\n      <th>Collecte</th>\n      <th>Contenant</th>\n      <th>Adresse</th>\n      <th>Ville</th>\n      <th>Année</th>\n      <th>MOIS</th>\n      <th>SEMAINE</th>\n      <th>date</th>\n      <th>heure</th>\n      <th>Taux</th>\n      <th>Poids Kg</th>\n    </tr>\n  </thead>\n  <tbody>\n    <tr>\n      <th>19884</th>\n      <td>PAV</td>\n      <td>CAN034V</td>\n      <td>AVENUE FRANCIS TONNER</td>\n      <td>CANNES</td>\n      <td>2019</td>\n      <td>Avril</td>\n      <td>18</td>\n      <td>2019-05-02</td>\n      <td>07:55:24</td>\n      <td>2</td>\n      <td>520</td>\n    </tr>\n  </tbody>\n</table>\n</div>"
     },
     "metadata": {},
     "execution_count": 90
    }
   ],
   "source": [
    "# Exemple \n",
    "# la semaine commence en avril et finit en mai d'où la différence\n",
    "# Seule la date stricte sera considérée\n",
    "data171819.loc[[19884]]"
   ]
  },
  {
   "source": [
    "# Ajout des correspondances entre collecteurs de verre dans la BDD et le jeu de données"
   ],
   "cell_type": "markdown",
   "metadata": {}
  },
  {
   "source": [
    "# Mise en forme des données\n"
   ],
   "cell_type": "markdown",
   "metadata": {}
  },
  {
   "source": [
    "## Suppression des colonnes inutiles"
   ],
   "cell_type": "markdown",
   "metadata": {}
  },
  {
   "cell_type": "code",
   "execution_count": 93,
   "metadata": {},
   "outputs": [
    {
     "output_type": "execute_result",
     "data": {
      "text/plain": [
       "                           Adresse      date   Poids Kg\n",
       "0            CHEMIN DES BREGUIERES 2017-01-05       500\n",
       "1                RUE DES MOULIERES 2017-01-05       420\n",
       "2                  AVENUE DU REPOS 2017-01-05       210\n",
       "3                 RUE DES ORANGERS 2017-01-05       450\n",
       "4             BOULEVARD D'OLIVETUM 2017-01-05       730\n",
       "...                            ...        ...       ...\n",
       "24755          ALLEE DE LA LIBERTE 2019-11-22       250\n",
       "24756               AVENUE LAUGIER 2019-11-22       450\n",
       "24757           AVENUE ISOLA BELLA 2019-11-22       970\n",
       "24758  55 AVENUE DU ROI ALBERT 1ER 2019-11-22       230\n",
       "24759              RUE FELIX FAURE 2019-11-22       280\n",
       "\n",
       "[24759 rows x 3 columns]"
      ],
      "text/html": "<div>\n<style scoped>\n    .dataframe tbody tr th:only-of-type {\n        vertical-align: middle;\n    }\n\n    .dataframe tbody tr th {\n        vertical-align: top;\n    }\n\n    .dataframe thead th {\n        text-align: right;\n    }\n</style>\n<table border=\"1\" class=\"dataframe\">\n  <thead>\n    <tr style=\"text-align: right;\">\n      <th></th>\n      <th>Adresse</th>\n      <th>date</th>\n      <th>Poids Kg</th>\n    </tr>\n  </thead>\n  <tbody>\n    <tr>\n      <th>0</th>\n      <td>CHEMIN DES BREGUIERES</td>\n      <td>2017-01-05</td>\n      <td>500</td>\n    </tr>\n    <tr>\n      <th>1</th>\n      <td>RUE DES MOULIERES</td>\n      <td>2017-01-05</td>\n      <td>420</td>\n    </tr>\n    <tr>\n      <th>2</th>\n      <td>AVENUE DU REPOS</td>\n      <td>2017-01-05</td>\n      <td>210</td>\n    </tr>\n    <tr>\n      <th>3</th>\n      <td>RUE DES ORANGERS</td>\n      <td>2017-01-05</td>\n      <td>450</td>\n    </tr>\n    <tr>\n      <th>4</th>\n      <td>BOULEVARD D'OLIVETUM</td>\n      <td>2017-01-05</td>\n      <td>730</td>\n    </tr>\n    <tr>\n      <th>...</th>\n      <td>...</td>\n      <td>...</td>\n      <td>...</td>\n    </tr>\n    <tr>\n      <th>24755</th>\n      <td>ALLEE DE LA LIBERTE</td>\n      <td>2019-11-22</td>\n      <td>250</td>\n    </tr>\n    <tr>\n      <th>24756</th>\n      <td>AVENUE LAUGIER</td>\n      <td>2019-11-22</td>\n      <td>450</td>\n    </tr>\n    <tr>\n      <th>24757</th>\n      <td>AVENUE ISOLA BELLA</td>\n      <td>2019-11-22</td>\n      <td>970</td>\n    </tr>\n    <tr>\n      <th>24758</th>\n      <td>55 AVENUE DU ROI ALBERT 1ER</td>\n      <td>2019-11-22</td>\n      <td>230</td>\n    </tr>\n    <tr>\n      <th>24759</th>\n      <td>RUE FELIX FAURE</td>\n      <td>2019-11-22</td>\n      <td>280</td>\n    </tr>\n  </tbody>\n</table>\n<p>24759 rows × 3 columns</p>\n</div>"
     },
     "metadata": {},
     "execution_count": 93
    }
   ],
   "source": [
    "data171819.drop(columns=[\"Collecte\", \"Contenant\", \"Ville\", \"Année\", \"MOIS\", \"SEMAINE\", \"heure\", \"Taux\"], inplace=True)\n",
    "data171819"
   ]
  },
  {
   "cell_type": "code",
   "execution_count": 35,
   "metadata": {},
   "outputs": [
    {
     "output_type": "execute_result",
     "data": {
      "text/plain": [
       "     Date de réalisation                 Lieu de Collecte   Poids\n",
       "0             2020-01-02              CAPL-CNT-VOIE JULIA  0.4360\n",
       "1             2020-01-02  CAPL-CNT-BREGUIERES/FONT GALLOU  0.4360\n",
       "2             2020-01-02      CAPL-CNT-AV ECOLES/ROTHMANS  0.4360\n",
       "3             2020-01-02                CAPL-CAN-MERLETTE  0.5450\n",
       "4             2020-01-02                CAPL-CAN-RIOU/HLM  0.5814\n",
       "...                  ...                              ...     ...\n",
       "5471          2020-09-30   CAPL-CAN-GOURGUETTES/RONDPOINT  0.1800\n",
       "5472          2020-09-30   CAPL-CAN-GOURGUETTES/ARRET BUS  0.2400\n",
       "5473          2020-09-30          CAPL-CAN-BALZAC/LECLERC  0.3600\n",
       "5474          2020-09-30     CAPL-CAN-JOURDAN/ENTREE ANAS  0.1800\n",
       "5475          2020-09-30        CAPL-CAN-JOURDAN/RANCHITO  0.1800\n",
       "\n",
       "[5386 rows x 3 columns]"
      ],
      "text/html": "<div>\n<style scoped>\n    .dataframe tbody tr th:only-of-type {\n        vertical-align: middle;\n    }\n\n    .dataframe tbody tr th {\n        vertical-align: top;\n    }\n\n    .dataframe thead th {\n        text-align: right;\n    }\n</style>\n<table border=\"1\" class=\"dataframe\">\n  <thead>\n    <tr style=\"text-align: right;\">\n      <th></th>\n      <th>Date de réalisation</th>\n      <th>Lieu de Collecte</th>\n      <th>Poids</th>\n    </tr>\n  </thead>\n  <tbody>\n    <tr>\n      <th>0</th>\n      <td>2020-01-02</td>\n      <td>CAPL-CNT-VOIE JULIA</td>\n      <td>0.4360</td>\n    </tr>\n    <tr>\n      <th>1</th>\n      <td>2020-01-02</td>\n      <td>CAPL-CNT-BREGUIERES/FONT GALLOU</td>\n      <td>0.4360</td>\n    </tr>\n    <tr>\n      <th>2</th>\n      <td>2020-01-02</td>\n      <td>CAPL-CNT-AV ECOLES/ROTHMANS</td>\n      <td>0.4360</td>\n    </tr>\n    <tr>\n      <th>3</th>\n      <td>2020-01-02</td>\n      <td>CAPL-CAN-MERLETTE</td>\n      <td>0.5450</td>\n    </tr>\n    <tr>\n      <th>4</th>\n      <td>2020-01-02</td>\n      <td>CAPL-CAN-RIOU/HLM</td>\n      <td>0.5814</td>\n    </tr>\n    <tr>\n      <th>...</th>\n      <td>...</td>\n      <td>...</td>\n      <td>...</td>\n    </tr>\n    <tr>\n      <th>5471</th>\n      <td>2020-09-30</td>\n      <td>CAPL-CAN-GOURGUETTES/RONDPOINT</td>\n      <td>0.1800</td>\n    </tr>\n    <tr>\n      <th>5472</th>\n      <td>2020-09-30</td>\n      <td>CAPL-CAN-GOURGUETTES/ARRET BUS</td>\n      <td>0.2400</td>\n    </tr>\n    <tr>\n      <th>5473</th>\n      <td>2020-09-30</td>\n      <td>CAPL-CAN-BALZAC/LECLERC</td>\n      <td>0.3600</td>\n    </tr>\n    <tr>\n      <th>5474</th>\n      <td>2020-09-30</td>\n      <td>CAPL-CAN-JOURDAN/ENTREE ANAS</td>\n      <td>0.1800</td>\n    </tr>\n    <tr>\n      <th>5475</th>\n      <td>2020-09-30</td>\n      <td>CAPL-CAN-JOURDAN/RANCHITO</td>\n      <td>0.1800</td>\n    </tr>\n  </tbody>\n</table>\n<p>5386 rows × 3 columns</p>\n</div>"
     },
     "metadata": {},
     "execution_count": 35
    }
   ],
   "source": [
    "data20.drop(columns=[\"Prestation\",\"Matériel\"], inplace=True)\n",
    "data20"
   ]
  },
  {
   "source": [
    "## Conversions de types"
   ],
   "cell_type": "markdown",
   "metadata": {}
  },
  {
   "source": [
    "### Poids"
   ],
   "cell_type": "markdown",
   "metadata": {}
  },
  {
   "cell_type": "code",
   "execution_count": 36,
   "metadata": {},
   "outputs": [
    {
     "output_type": "execute_result",
     "data": {
      "text/plain": [
       "     Date de réalisation                 Lieu de Collecte   Poids\n",
       "0             2020-01-02              CAPL-CNT-VOIE JULIA  0.4360\n",
       "1             2020-01-02  CAPL-CNT-BREGUIERES/FONT GALLOU  0.4360\n",
       "2             2020-01-02      CAPL-CNT-AV ECOLES/ROTHMANS  0.4360\n",
       "3             2020-01-02                CAPL-CAN-MERLETTE  0.5450\n",
       "4             2020-01-02                CAPL-CAN-RIOU/HLM  0.5814\n",
       "...                  ...                              ...     ...\n",
       "5471          2020-09-30   CAPL-CAN-GOURGUETTES/RONDPOINT  0.1800\n",
       "5472          2020-09-30   CAPL-CAN-GOURGUETTES/ARRET BUS  0.2400\n",
       "5473          2020-09-30          CAPL-CAN-BALZAC/LECLERC  0.3600\n",
       "5474          2020-09-30     CAPL-CAN-JOURDAN/ENTREE ANAS  0.1800\n",
       "5475          2020-09-30        CAPL-CAN-JOURDAN/RANCHITO  0.1800\n",
       "\n",
       "[5386 rows x 3 columns]"
      ],
      "text/html": "<div>\n<style scoped>\n    .dataframe tbody tr th:only-of-type {\n        vertical-align: middle;\n    }\n\n    .dataframe tbody tr th {\n        vertical-align: top;\n    }\n\n    .dataframe thead th {\n        text-align: right;\n    }\n</style>\n<table border=\"1\" class=\"dataframe\">\n  <thead>\n    <tr style=\"text-align: right;\">\n      <th></th>\n      <th>Date de réalisation</th>\n      <th>Lieu de Collecte</th>\n      <th>Poids</th>\n    </tr>\n  </thead>\n  <tbody>\n    <tr>\n      <th>0</th>\n      <td>2020-01-02</td>\n      <td>CAPL-CNT-VOIE JULIA</td>\n      <td>0.4360</td>\n    </tr>\n    <tr>\n      <th>1</th>\n      <td>2020-01-02</td>\n      <td>CAPL-CNT-BREGUIERES/FONT GALLOU</td>\n      <td>0.4360</td>\n    </tr>\n    <tr>\n      <th>2</th>\n      <td>2020-01-02</td>\n      <td>CAPL-CNT-AV ECOLES/ROTHMANS</td>\n      <td>0.4360</td>\n    </tr>\n    <tr>\n      <th>3</th>\n      <td>2020-01-02</td>\n      <td>CAPL-CAN-MERLETTE</td>\n      <td>0.5450</td>\n    </tr>\n    <tr>\n      <th>4</th>\n      <td>2020-01-02</td>\n      <td>CAPL-CAN-RIOU/HLM</td>\n      <td>0.5814</td>\n    </tr>\n    <tr>\n      <th>...</th>\n      <td>...</td>\n      <td>...</td>\n      <td>...</td>\n    </tr>\n    <tr>\n      <th>5471</th>\n      <td>2020-09-30</td>\n      <td>CAPL-CAN-GOURGUETTES/RONDPOINT</td>\n      <td>0.1800</td>\n    </tr>\n    <tr>\n      <th>5472</th>\n      <td>2020-09-30</td>\n      <td>CAPL-CAN-GOURGUETTES/ARRET BUS</td>\n      <td>0.2400</td>\n    </tr>\n    <tr>\n      <th>5473</th>\n      <td>2020-09-30</td>\n      <td>CAPL-CAN-BALZAC/LECLERC</td>\n      <td>0.3600</td>\n    </tr>\n    <tr>\n      <th>5474</th>\n      <td>2020-09-30</td>\n      <td>CAPL-CAN-JOURDAN/ENTREE ANAS</td>\n      <td>0.1800</td>\n    </tr>\n    <tr>\n      <th>5475</th>\n      <td>2020-09-30</td>\n      <td>CAPL-CAN-JOURDAN/RANCHITO</td>\n      <td>0.1800</td>\n    </tr>\n  </tbody>\n</table>\n<p>5386 rows × 3 columns</p>\n</div>"
     },
     "metadata": {},
     "execution_count": 36
    }
   ],
   "source": [
    "# Exemple avant conversion\n",
    "data20"
   ]
  },
  {
   "cell_type": "code",
   "execution_count": 37,
   "metadata": {},
   "outputs": [],
   "source": [
    "data20.Poids = (data20.Poids * 1000).astype(int)"
   ]
  },
  {
   "cell_type": "code",
   "execution_count": 38,
   "metadata": {},
   "outputs": [
    {
     "output_type": "execute_result",
     "data": {
      "text/plain": [
       "     Date de réalisation                 Lieu de Collecte  Poids\n",
       "0             2020-01-02              CAPL-CNT-VOIE JULIA    436\n",
       "1             2020-01-02  CAPL-CNT-BREGUIERES/FONT GALLOU    436\n",
       "2             2020-01-02      CAPL-CNT-AV ECOLES/ROTHMANS    436\n",
       "3             2020-01-02                CAPL-CAN-MERLETTE    545\n",
       "4             2020-01-02                CAPL-CAN-RIOU/HLM    581\n",
       "...                  ...                              ...    ...\n",
       "5471          2020-09-30   CAPL-CAN-GOURGUETTES/RONDPOINT    180\n",
       "5472          2020-09-30   CAPL-CAN-GOURGUETTES/ARRET BUS    240\n",
       "5473          2020-09-30          CAPL-CAN-BALZAC/LECLERC    360\n",
       "5474          2020-09-30     CAPL-CAN-JOURDAN/ENTREE ANAS    180\n",
       "5475          2020-09-30        CAPL-CAN-JOURDAN/RANCHITO    180\n",
       "\n",
       "[5386 rows x 3 columns]"
      ],
      "text/html": "<div>\n<style scoped>\n    .dataframe tbody tr th:only-of-type {\n        vertical-align: middle;\n    }\n\n    .dataframe tbody tr th {\n        vertical-align: top;\n    }\n\n    .dataframe thead th {\n        text-align: right;\n    }\n</style>\n<table border=\"1\" class=\"dataframe\">\n  <thead>\n    <tr style=\"text-align: right;\">\n      <th></th>\n      <th>Date de réalisation</th>\n      <th>Lieu de Collecte</th>\n      <th>Poids</th>\n    </tr>\n  </thead>\n  <tbody>\n    <tr>\n      <th>0</th>\n      <td>2020-01-02</td>\n      <td>CAPL-CNT-VOIE JULIA</td>\n      <td>436</td>\n    </tr>\n    <tr>\n      <th>1</th>\n      <td>2020-01-02</td>\n      <td>CAPL-CNT-BREGUIERES/FONT GALLOU</td>\n      <td>436</td>\n    </tr>\n    <tr>\n      <th>2</th>\n      <td>2020-01-02</td>\n      <td>CAPL-CNT-AV ECOLES/ROTHMANS</td>\n      <td>436</td>\n    </tr>\n    <tr>\n      <th>3</th>\n      <td>2020-01-02</td>\n      <td>CAPL-CAN-MERLETTE</td>\n      <td>545</td>\n    </tr>\n    <tr>\n      <th>4</th>\n      <td>2020-01-02</td>\n      <td>CAPL-CAN-RIOU/HLM</td>\n      <td>581</td>\n    </tr>\n    <tr>\n      <th>...</th>\n      <td>...</td>\n      <td>...</td>\n      <td>...</td>\n    </tr>\n    <tr>\n      <th>5471</th>\n      <td>2020-09-30</td>\n      <td>CAPL-CAN-GOURGUETTES/RONDPOINT</td>\n      <td>180</td>\n    </tr>\n    <tr>\n      <th>5472</th>\n      <td>2020-09-30</td>\n      <td>CAPL-CAN-GOURGUETTES/ARRET BUS</td>\n      <td>240</td>\n    </tr>\n    <tr>\n      <th>5473</th>\n      <td>2020-09-30</td>\n      <td>CAPL-CAN-BALZAC/LECLERC</td>\n      <td>360</td>\n    </tr>\n    <tr>\n      <th>5474</th>\n      <td>2020-09-30</td>\n      <td>CAPL-CAN-JOURDAN/ENTREE ANAS</td>\n      <td>180</td>\n    </tr>\n    <tr>\n      <th>5475</th>\n      <td>2020-09-30</td>\n      <td>CAPL-CAN-JOURDAN/RANCHITO</td>\n      <td>180</td>\n    </tr>\n  </tbody>\n</table>\n<p>5386 rows × 3 columns</p>\n</div>"
     },
     "metadata": {},
     "execution_count": 38
    }
   ],
   "source": [
    "# Exemple après conversion\n",
    "data20"
   ]
  },
  {
   "source": [
    "# Création des DataFrames"
   ],
   "cell_type": "markdown",
   "metadata": {}
  }
 ],
 "metadata": {
  "kernelspec": {
   "display_name": "Python 3",
   "language": "python",
   "name": "python3"
  },
  "language_info": {
   "codemirror_mode": {
    "name": "ipython",
    "version": 3
   },
   "file_extension": ".py",
   "mimetype": "text/x-python",
   "name": "python",
   "nbconvert_exporter": "python",
   "pygments_lexer": "ipython3",
   "version": "3.8.3-final"
  }
 },
 "nbformat": 4,
 "nbformat_minor": 4
}