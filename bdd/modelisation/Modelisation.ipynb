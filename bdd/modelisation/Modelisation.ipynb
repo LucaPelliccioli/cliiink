{
 "cells": [
  {
   "cell_type": "markdown",
   "metadata": {},
   "source": [
    "# Modélisation de la base de données pour les données de la CACPL\n",
    "\n",
    "On s'appuie sur les jeux de données fournis par la CACPL disponible [ici](../../data/data_sig_collecte) :\n",
    "\n",
    "On souhaite établir un modèle pour enregistrer l'inventaire des déchèteries et des conteneurs\n",
    "\n",
    "(La base de données décrite doit être en 3NF)"
   ]
  },
  {
   "cell_type": "markdown",
   "metadata": {},
   "source": [
    "# 0) Description des informations contenues dans les jeux de données\n",
    "\n",
    "## Jeu de données des déchèteries\n",
    "\n",
    "| Nom | Type | Descriptif |\n",
    "|----------|---------------|-------|\n",
    "| objectid | entier(5) | Identifiant de la déchèterie |\n",
    "| id | chaîne de caractères(10) |  Identifiant(s) |\n",
    "| adresse | chaîne de caractères(50) | Adresse de la déchèterie |\n",
    "| adresse_comp | chaîne de caractères(50) | Complément de l'adresse de la déchèterie |\n",
    "| code_insee | entier(4) | Code INSEE de la ville (différent du code départemental) |\n",
    "| veget | booléen | Indicateur du traitement des végétations par la déchèterie |\n",
    "| bois | booléen | Indicateur du traitement du bois par la déchèterie |\n",
    "| metal | booléen | Indicateur du traitement du métal par la déchèterie |\n",
    "| grav_prop | booléen | Indicateur du traitement des graviers propres par la déchèterie |\n",
    "| grav_sal | booléen | Indicateur du traitement des graviers sales par la déchèterie |\n",
    "| carton | booléen | Indicateur du traitement du carton par la déchèterie |\n",
    "| d3e | booléen | Indicateur du traitement des D3E (Déchets d'Equipements Electriques et Electroniques) par la déchèterie |\n",
    "| dech_men_spe | booléen | Indicateur du traitement des déchets ménagers spéciaux par la déchèterie |\n",
    "| neon | booléen | Indicateur du traitement des néons par la déchèterie |\n",
    "| batterie | booléen | Indicateur du traitement des batteries par la déchèterie |\n",
    "| pile | booléen | Indicateur du traitement des piles par la déchèterie |\n",
    "| gaz | booléen | Indicateur du traitement du gaz par la déchèterie |\n",
    "| extincteur | booléen | Indicateur du traitement des extincteurs par la déchèterie |\n",
    "| huil_veget_mineral | booléen | Indicateur du traitement des huiles végétales et minérales par la déchèterie |\n",
    "| date_instal |  | Date d'installation de la déchèterie |\n",
    "| observations | chaîne de caractères(70) | Obseravtions éventuelles |\n",
    "| creation | chaîne de caractères(20) | Pseudo de la personne qui a enregsitré la déchèteries dans la BDD |\n",
    "| date_creation | chaîne de caractères(14) | Date et temps de l'enregistrement de la déchèterie dans la BDD  |\n",
    "| modification | chaîne de caractères(20) | Pseudo de la personne qui a modifié en dernier la déchèteries dans la BDD |\n",
    "| date_modification | chaîne de caractères(14) | Date et temps de la dernière modification de la déchèterie dans la BDD |\n",
    "| global_id | chaîne de caractères(38) |  |\n",
    "| _x | décimal(10, 9) | Latitude de la déchèterie |\n",
    "| _y | décimal(10, 9) | Longitude de la déchèterie |\n",
    "\n",
    "## Jeu de données pour chaque type de collecteur\n",
    "\n",
    "| Nom | Type | Descriptif |\n",
    "|----------|---------------|-------|\n",
    "| objectid | entier(5) | Identifiant du collecteur |\n",
    "| id | chaîne de caractères(10) |   |\n",
    "| type | chaîne de caractères(30) | Type de collecteur |\n",
    "| volume | chaîne de caractères(10) | Quantité du collecteur (en L ou en m3) |\n",
    "| quantite | entier(1) | Qauntité de collecteurs |\n",
    "| marque | chaîne de caractères(15) | Marque du collecteur |\n",
    "| date_instal |  | Date d'installation du collecteur |\n",
    "| adresse | chaîne de caractères(50) | Adresse de la déchèterie |\n",
    "| adresse_comp | chaîne de caractères(40) | Complément de l'adresse de la déchèterie |\n",
    "| code_insee | entier(4) | Code INSEE de la ville (différent du code départemental) |\n",
    "| observations | chaîne de caractères(70) | Obseravtions éventuelles |\n",
    "| creation | chaîne de caractères(20) | Pseudo de la personne qui a enregsitré la déchèteries dans la BDD |\n",
    "| date_creation | chaîne de caractères(14) | Date et temps de l'enregistrement de la déchèterie dans la BDD  |\n",
    "| modification | chaîne de caractères(20) | Pseudo de la personne qui a modifié en dernier la déchèteries dans la BDD |\n",
    "| date_modification | chaîne de caractères(14) | Date et temps de la dernière modification de la déchèterie dans la BDD |\n",
    "| global_id | chaîne de caractères(38) |  |\n",
    "| _x | décimal(10, 9) | Latitude de la déchèterie |\n",
    "| _y | décimal(10, 9) | Longitude de la déchèterie |\n"
   ]
  },
  {
   "cell_type": "markdown",
   "metadata": {},
   "source": [
    "# 1) Dictionnaire des données\n",
    "| Nom | Type | Descriptif |\n",
    "|----------|---------------|-------|\n",
    "|  | chaîne de caractères(50) |  |\n"
   ]
  },
  {
   "cell_type": "markdown",
   "metadata": {},
   "source": [
    "# Règles métier\n",
    "- \n",
    "-\n"
   ]
  },
  {
   "cell_type": "markdown",
   "metadata": {},
   "source": [
    "# 2) Modèle conceptuel des données\n",
    "![nom.png](https://github.com/antjacquemin/nom.png?raw=true)"
   ]
  },
  {
   "cell_type": "markdown",
   "metadata": {},
   "source": [
    "# 3) Modèle logique des données\n",
    "![nom.png](https://github.com/antjacquemin/nom.png?raw=true)"
   ]
  },
  {
   "cell_type": "markdown",
   "metadata": {},
   "source": [
    "# 4) Modèle relationnel des données\n",
    "\n",
    "Exemple(<ins>PO_id</ins>, PO_nom, PO_prenom, PO_adresse, PO_codepostal, PO_ville, PO_telephone, PO_email, PO_grade, #SE_code)\n",
    "\n"
   ]
  },
  {
   "cell_type": "code",
   "execution_count": null,
   "metadata": {},
   "outputs": [],
   "source": []
  }
 ],
 "metadata": {
  "kernelspec": {
   "display_name": "Python 3",
   "language": "python",
   "name": "python3"
  },
  "language_info": {
   "codemirror_mode": {
    "name": "ipython",
    "version": 3
   },
   "file_extension": ".py",
   "mimetype": "text/x-python",
   "name": "python",
   "nbconvert_exporter": "python",
   "pygments_lexer": "ipython3",
   "version": "3.7.7"
  }
 },
 "nbformat": 4,
 "nbformat_minor": 4
}